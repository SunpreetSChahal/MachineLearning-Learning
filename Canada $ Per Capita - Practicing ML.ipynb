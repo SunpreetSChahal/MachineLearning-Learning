{
 "cells": [
  {
   "cell_type": "markdown",
   "metadata": {},
   "source": [
    "# Practicing ML\n",
    "\n",
    "I'm going to be using a red wine dataset to practice machine learning, I will aim to cover:\n",
    "    - Linear Regression\n",
    "    - Random Forest\n",
    "    - XGBoost\n",
    "    - Decision Tree\n",
    "    - SVM\n",
    "    - And more...\n",
    "\n",
    "**Remember to contact Shanghua if there are any issues - remember to respect her calendar and book in free meeting slots (if needed)**"
   ]
  },
  {
   "cell_type": "code",
   "execution_count": 126,
   "metadata": {},
   "outputs": [],
   "source": [
    "import math\n",
    "import pandas as pd\n",
    "import matplotlib.pyplot as plt\n",
    "import statsmodels.api as sm\n",
    "import numpy as np\n",
    "from sklearn.linear_model import LinearRegression\n",
    "from word2number import w2n"
   ]
  },
  {
   "cell_type": "code",
   "execution_count": 127,
   "metadata": {},
   "outputs": [
    {
     "data": {
      "text/html": [
       "<div>\n",
       "<style scoped>\n",
       "    .dataframe tbody tr th:only-of-type {\n",
       "        vertical-align: middle;\n",
       "    }\n",
       "\n",
       "    .dataframe tbody tr th {\n",
       "        vertical-align: top;\n",
       "    }\n",
       "\n",
       "    .dataframe thead th {\n",
       "        text-align: right;\n",
       "    }\n",
       "</style>\n",
       "<table border=\"1\" class=\"dataframe\">\n",
       "  <thead>\n",
       "    <tr style=\"text-align: right;\">\n",
       "      <th></th>\n",
       "      <th>year</th>\n",
       "      <th>per capita income (US$)</th>\n",
       "    </tr>\n",
       "  </thead>\n",
       "  <tbody>\n",
       "    <tr>\n",
       "      <th>42</th>\n",
       "      <td>2012</td>\n",
       "      <td>42665.25597</td>\n",
       "    </tr>\n",
       "    <tr>\n",
       "      <th>43</th>\n",
       "      <td>2013</td>\n",
       "      <td>42676.46837</td>\n",
       "    </tr>\n",
       "    <tr>\n",
       "      <th>44</th>\n",
       "      <td>2014</td>\n",
       "      <td>41039.89360</td>\n",
       "    </tr>\n",
       "    <tr>\n",
       "      <th>45</th>\n",
       "      <td>2015</td>\n",
       "      <td>35175.18898</td>\n",
       "    </tr>\n",
       "    <tr>\n",
       "      <th>46</th>\n",
       "      <td>2016</td>\n",
       "      <td>34229.19363</td>\n",
       "    </tr>\n",
       "  </tbody>\n",
       "</table>\n",
       "</div>"
      ],
      "text/plain": [
       "    year  per capita income (US$)\n",
       "42  2012              42665.25597\n",
       "43  2013              42676.46837\n",
       "44  2014              41039.89360\n",
       "45  2015              35175.18898\n",
       "46  2016              34229.19363"
      ]
     },
     "execution_count": 127,
     "metadata": {},
     "output_type": "execute_result"
    }
   ],
   "source": [
    "df = pd.read_csv(\"https://raw.githubusercontent.com/codebasics/py/master/ML/1_linear_reg/Exercise/canada_per_capita_income.csv\")\n",
    "df.tail()"
   ]
  },
  {
   "cell_type": "markdown",
   "metadata": {},
   "source": [
    "##### Manipulation - Year & Income Per Capita"
   ]
  },
  {
   "cell_type": "code",
   "execution_count": 128,
   "metadata": {},
   "outputs": [
    {
     "data": {
      "text/plain": [
       "Index(['year', 'per_capita_income'], dtype='object')"
      ]
     },
     "execution_count": 128,
     "metadata": {},
     "output_type": "execute_result"
    }
   ],
   "source": [
    "df = df.rename(columns={\"per capita income (US$)\" : \"per_capita_income\"})\n",
    "df.columns"
   ]
  },
  {
   "cell_type": "markdown",
   "metadata": {},
   "source": [
    "### Simple Linear Regression"
   ]
  },
  {
   "cell_type": "code",
   "execution_count": 129,
   "metadata": {},
   "outputs": [
    {
     "name": "stdout",
     "output_type": "stream",
     "text": [
      "                            OLS Regression Results                            \n",
      "==============================================================================\n",
      "Dep. Variable:      per_capita_income   R-squared:                       0.891\n",
      "Model:                            OLS   Adj. R-squared:                  0.888\n",
      "Method:                 Least Squares   F-statistic:                     367.5\n",
      "Date:                Mon, 04 Oct 2021   Prob (F-statistic):           2.80e-23\n",
      "Time:                        20:22:13   Log-Likelihood:                -455.71\n",
      "No. Observations:                  47   AIC:                             915.4\n",
      "Df Residuals:                      45   BIC:                             919.1\n",
      "Df Model:                           1                                         \n",
      "Covariance Type:            nonrobust                                         \n",
      "==============================================================================\n",
      "                 coef    std err          t      P>|t|      [0.025      0.975]\n",
      "------------------------------------------------------------------------------\n",
      "const      -1.632e+06   8.61e+04    -18.951      0.000   -1.81e+06   -1.46e+06\n",
      "year         828.4651     43.214     19.171      0.000     741.427     915.503\n",
      "==============================================================================\n",
      "Omnibus:                        0.511   Durbin-Watson:                   0.230\n",
      "Prob(Omnibus):                  0.775   Jarque-Bera (JB):                0.647\n",
      "Skew:                           0.130   Prob(JB):                        0.724\n",
      "Kurtosis:                       2.487   Cond. No.                     2.93e+05\n",
      "==============================================================================\n",
      "\n",
      "Warnings:\n",
      "[1] Standard Errors assume that the covariance matrix of the errors is correctly specified.\n",
      "[2] The condition number is large, 2.93e+05. This might indicate that there are\n",
      "strong multicollinearity or other numerical problems.\n"
     ]
    },
    {
     "name": "stderr",
     "output_type": "stream",
     "text": [
      "C:\\Anaconda3\\lib\\site-packages\\numpy\\core\\fromnumeric.py:2389: FutureWarning: Method .ptp is deprecated and will be removed in a future version. Use numpy.ptp instead.\n",
      "  return ptp(axis=axis, out=out, **kwargs)\n"
     ]
    }
   ],
   "source": [
    "# ŷ = b0 + b1x\n",
    "#ŷ: The estimated response value\n",
    "#b0: The intercept of the regression line\n",
    "#b1: The slope of the regression line\n",
    "\n",
    "#Respons variable\n",
    "y = df['per_capita_income']\n",
    "\n",
    "#Explanatory variable\n",
    "x = df['year']\n",
    "\n",
    "x = sm.add_constant(x)\n",
    "\n",
    "# Fit model\n",
    "model = sm.OLS(y, x)\n",
    "model = model.fit()\n",
    "\n",
    "print(model.summary())"
   ]
  },
  {
   "cell_type": "code",
   "execution_count": 130,
   "metadata": {},
   "outputs": [
    {
     "data": {
      "image/png": "[encoded data removed]",
      "text/plain": [
       "<Figure size 864x576 with 4 Axes>"
      ]
     },
     "metadata": {
      "needs_background": "light"
     },
     "output_type": "display_data"
    }
   ],
   "source": [
    "#define figure size\n",
    "fig = plt.figure(figsize=(12,8))\n",
    "\n",
    "#produce residual plots\n",
    "fig = sm.graphics.plot_regress_exog(model, 'year', fig=fig)"
   ]
  },
  {
   "cell_type": "code",
   "execution_count": 131,
   "metadata": {},
   "outputs": [
    {
     "data": {
      "image/png": "[encoded data removed]",
      "text/plain": [
       "<Figure size 432x288 with 1 Axes>"
      ]
     },
     "metadata": {
      "needs_background": "light"
     },
     "output_type": "display_data"
    }
   ],
   "source": [
    "#define residuals\n",
    "res = model.resid\n",
    "\n",
    "#create Q-Q plot\n",
    "fig = sm.qqplot(res, fit=True, line=\"45\")\n",
    "plt.show()"
   ]
  },
  {
   "cell_type": "code",
   "execution_count": 132,
   "metadata": {},
   "outputs": [
    {
     "data": {
      "text/plain": [
       "LinearRegression(copy_X=True, fit_intercept=True, n_jobs=None, normalize=False)"
      ]
     },
     "execution_count": 132,
     "metadata": {},
     "output_type": "execute_result"
    }
   ],
   "source": [
    "# Using Sklearn\n",
    "reg = LinearRegression()\n",
    "reg.fit(df[['year']],df.per_capita_income)"
   ]
  },
  {
   "cell_type": "code",
   "execution_count": 133,
   "metadata": {
    "scrolled": false
   },
   "outputs": [
    {
     "data": {
      "text/plain": [
       "array([106737.43503701])"
      ]
     },
     "execution_count": 133,
     "metadata": {},
     "output_type": "execute_result"
    }
   ],
   "source": [
    "# Predict income for ny year\n",
    "# Can do print(reg.predict([[x]]))\n",
    "reg.predict([[2099]])"
   ]
  },
  {
   "cell_type": "markdown",
   "metadata": {},
   "source": [
    "### Multiple Variable Linear Regression"
   ]
  },
  {
   "cell_type": "code",
   "execution_count": 134,
   "metadata": {},
   "outputs": [
    {
     "data": {
      "text/html": [
       "<div>\n",
       "<style scoped>\n",
       "    .dataframe tbody tr th:only-of-type {\n",
       "        vertical-align: middle;\n",
       "    }\n",
       "\n",
       "    .dataframe tbody tr th {\n",
       "        vertical-align: top;\n",
       "    }\n",
       "\n",
       "    .dataframe thead th {\n",
       "        text-align: right;\n",
       "    }\n",
       "</style>\n",
       "<table border=\"1\" class=\"dataframe\">\n",
       "  <thead>\n",
       "    <tr style=\"text-align: right;\">\n",
       "      <th></th>\n",
       "      <th>experience</th>\n",
       "      <th>test_score(out of 10)</th>\n",
       "      <th>interview_score(out of 10)</th>\n",
       "      <th>salary($)</th>\n",
       "    </tr>\n",
       "  </thead>\n",
       "  <tbody>\n",
       "    <tr>\n",
       "      <th>0</th>\n",
       "      <td>NaN</td>\n",
       "      <td>8.0</td>\n",
       "      <td>9</td>\n",
       "      <td>50000</td>\n",
       "    </tr>\n",
       "    <tr>\n",
       "      <th>1</th>\n",
       "      <td>NaN</td>\n",
       "      <td>8.0</td>\n",
       "      <td>6</td>\n",
       "      <td>45000</td>\n",
       "    </tr>\n",
       "    <tr>\n",
       "      <th>2</th>\n",
       "      <td>five</td>\n",
       "      <td>6.0</td>\n",
       "      <td>7</td>\n",
       "      <td>60000</td>\n",
       "    </tr>\n",
       "    <tr>\n",
       "      <th>3</th>\n",
       "      <td>two</td>\n",
       "      <td>10.0</td>\n",
       "      <td>10</td>\n",
       "      <td>65000</td>\n",
       "    </tr>\n",
       "    <tr>\n",
       "      <th>4</th>\n",
       "      <td>seven</td>\n",
       "      <td>9.0</td>\n",
       "      <td>6</td>\n",
       "      <td>70000</td>\n",
       "    </tr>\n",
       "    <tr>\n",
       "      <th>5</th>\n",
       "      <td>three</td>\n",
       "      <td>7.0</td>\n",
       "      <td>10</td>\n",
       "      <td>62000</td>\n",
       "    </tr>\n",
       "    <tr>\n",
       "      <th>6</th>\n",
       "      <td>ten</td>\n",
       "      <td>NaN</td>\n",
       "      <td>7</td>\n",
       "      <td>72000</td>\n",
       "    </tr>\n",
       "    <tr>\n",
       "      <th>7</th>\n",
       "      <td>eleven</td>\n",
       "      <td>7.0</td>\n",
       "      <td>8</td>\n",
       "      <td>80000</td>\n",
       "    </tr>\n",
       "  </tbody>\n",
       "</table>\n",
       "</div>"
      ],
      "text/plain": [
       "  experience  test_score(out of 10)  interview_score(out of 10)  salary($)\n",
       "0        NaN                    8.0                           9      50000\n",
       "1        NaN                    8.0                           6      45000\n",
       "2       five                    6.0                           7      60000\n",
       "3        two                   10.0                          10      65000\n",
       "4      seven                    9.0                           6      70000\n",
       "5      three                    7.0                          10      62000\n",
       "6        ten                    NaN                           7      72000\n",
       "7     eleven                    7.0                           8      80000"
      ]
     },
     "execution_count": 134,
     "metadata": {},
     "output_type": "execute_result"
    }
   ],
   "source": [
    "# New dataset - Multi variables\n",
    "df2 = pd.read_csv(\"https://raw.githubusercontent.com/codebasics/py/master/ML/2_linear_reg_multivariate/Exercise/hiring.csv\")\n",
    "df2"
   ]
  },
  {
   "cell_type": "markdown",
   "metadata": {},
   "source": [
    "##### Manipulation - Experience, Test Score, Interview Score & Salary"
   ]
  },
  {
   "cell_type": "code",
   "execution_count": 135,
   "metadata": {},
   "outputs": [],
   "source": [
    "# Filling in the null values - to use the values in the LR, we need to convert the words to numbers\n",
    "df2.experience = df2.experience.fillna(\"zero\")\n",
    "df2.experience = df2.experience.apply(w2n.word_to_num)"
   ]
  },
  {
   "cell_type": "code",
   "execution_count": 136,
   "metadata": {},
   "outputs": [
    {
     "data": {
      "text/html": [
       "<div>\n",
       "<style scoped>\n",
       "    .dataframe tbody tr th:only-of-type {\n",
       "        vertical-align: middle;\n",
       "    }\n",
       "\n",
       "    .dataframe tbody tr th {\n",
       "        vertical-align: top;\n",
       "    }\n",
       "\n",
       "    .dataframe thead th {\n",
       "        text-align: right;\n",
       "    }\n",
       "</style>\n",
       "<table border=\"1\" class=\"dataframe\">\n",
       "  <thead>\n",
       "    <tr style=\"text-align: right;\">\n",
       "      <th></th>\n",
       "      <th>experience</th>\n",
       "      <th>test_score(out of 10)</th>\n",
       "      <th>interview_score(out of 10)</th>\n",
       "      <th>salary($)</th>\n",
       "    </tr>\n",
       "  </thead>\n",
       "  <tbody>\n",
       "    <tr>\n",
       "      <th>0</th>\n",
       "      <td>0</td>\n",
       "      <td>8.0</td>\n",
       "      <td>9</td>\n",
       "      <td>50000</td>\n",
       "    </tr>\n",
       "    <tr>\n",
       "      <th>1</th>\n",
       "      <td>0</td>\n",
       "      <td>8.0</td>\n",
       "      <td>6</td>\n",
       "      <td>45000</td>\n",
       "    </tr>\n",
       "    <tr>\n",
       "      <th>2</th>\n",
       "      <td>5</td>\n",
       "      <td>6.0</td>\n",
       "      <td>7</td>\n",
       "      <td>60000</td>\n",
       "    </tr>\n",
       "    <tr>\n",
       "      <th>3</th>\n",
       "      <td>2</td>\n",
       "      <td>10.0</td>\n",
       "      <td>10</td>\n",
       "      <td>65000</td>\n",
       "    </tr>\n",
       "    <tr>\n",
       "      <th>4</th>\n",
       "      <td>7</td>\n",
       "      <td>9.0</td>\n",
       "      <td>6</td>\n",
       "      <td>70000</td>\n",
       "    </tr>\n",
       "    <tr>\n",
       "      <th>5</th>\n",
       "      <td>3</td>\n",
       "      <td>7.0</td>\n",
       "      <td>10</td>\n",
       "      <td>62000</td>\n",
       "    </tr>\n",
       "    <tr>\n",
       "      <th>6</th>\n",
       "      <td>10</td>\n",
       "      <td>7.0</td>\n",
       "      <td>7</td>\n",
       "      <td>72000</td>\n",
       "    </tr>\n",
       "    <tr>\n",
       "      <th>7</th>\n",
       "      <td>11</td>\n",
       "      <td>7.0</td>\n",
       "      <td>8</td>\n",
       "      <td>80000</td>\n",
       "    </tr>\n",
       "  </tbody>\n",
       "</table>\n",
       "</div>"
      ],
      "text/plain": [
       "   experience  test_score(out of 10)  interview_score(out of 10)  salary($)\n",
       "0           0                    8.0                           9      50000\n",
       "1           0                    8.0                           6      45000\n",
       "2           5                    6.0                           7      60000\n",
       "3           2                   10.0                          10      65000\n",
       "4           7                    9.0                           6      70000\n",
       "5           3                    7.0                          10      62000\n",
       "6          10                    7.0                           7      72000\n",
       "7          11                    7.0                           8      80000"
      ]
     },
     "execution_count": 136,
     "metadata": {},
     "output_type": "execute_result"
    }
   ],
   "source": [
    "# Since the \"Test Score (Out of 10)\" are floats, we need to find the mean to find the interger mean.\n",
    "mean_test_score = math.floor(df2['test_score(out of 10)'].mean())\n",
    "df2['test_score(out of 10)'] = df2['test_score(out of 10)'].fillna(mean_test_score)\n",
    "df2"
   ]
  },
  {
   "cell_type": "markdown",
   "metadata": {},
   "source": [
    "##### Multi Variable Linear Regression"
   ]
  },
  {
   "cell_type": "code",
   "execution_count": 137,
   "metadata": {},
   "outputs": [
    {
     "data": {
      "text/plain": [
       "LinearRegression(copy_X=True, fit_intercept=True, n_jobs=None, normalize=False)"
      ]
     },
     "execution_count": 137,
     "metadata": {},
     "output_type": "execute_result"
    }
   ],
   "source": [
    "#Creating the model\n",
    "reg2 = LinearRegression()\n",
    "\n",
    "#Use this format for multiple variables - reg.fit(df[['col1', 'col2', 'col3']], df['response variable'])\n",
    "    # Since the response variable column in this example will have invalid syntax - we need to put it in it's own s.brackets.\n",
    "reg2.fit(df2[['experience', 'test_score(out of 10)', 'interview_score(out of 10)']],df2['salary($)'])"
   ]
  },
  {
   "cell_type": "code",
   "execution_count": 138,
   "metadata": {},
   "outputs": [
    {
     "data": {
      "text/plain": [
       "array([60857.27438577])"
      ]
     },
     "execution_count": 138,
     "metadata": {},
     "output_type": "execute_result"
    }
   ],
   "source": [
    "# Use - modelname.predict([[1,2,3]]) - to use the model to predict\n",
    "    # The explanatory values should be in the order of how the model was fitted\n",
    "reg2.predict([[3, 8, 9]])"
   ]
  },
  {
   "cell_type": "code",
   "execution_count": 139,
   "metadata": {},
   "outputs": [
    {
     "data": {
      "text/plain": [
       "array([61558.23430121, 57234.04545532, 69624.08143084])"
      ]
     },
     "execution_count": 139,
     "metadata": {},
     "output_type": "execute_result"
    }
   ],
   "source": [
    "# Multi variable prediction\n",
    "    # modelname.predict([[x,x..], [x,x...]]) \n",
    "        # As long as the brackets open like ([[]]), then you can include as many variables as you want\n",
    "        \n",
    "reg2.predict([[4,7,9], [1,9,9], [6, 8, 9]])"
   ]
  },
  {
   "cell_type": "markdown",
   "metadata": {},
   "source": [
    "### Gradient Descent & Cost Function"
   ]
  },
  {
   "cell_type": "markdown",
   "metadata": {},
   "source": [
    "Formulas:\n",
    "\n",
    "- **mse or cf = (1/n) * sum([val ** 2 for val in (y - y_predicted])])** - Mean Squared Error / Cost Function\n",
    "- **mse or cf = (1/n) * sum((y - y_predicted)**2)** - Mean Sqaured Error / Cost Function\n",
    "\n",
    "\n",
    "- **partial derivative of *m* = -(2/n) * sum(x*(y - y_predicted))** - Partial Derivative (m) \n",
    "- **partial derivative of *b* = -(2/n) * sum(y - y_predicted)** - Partial Derivative (b)\n",
    "\n",
    "\n",
    "- **m = m - learning_rate * m_pderivative** - Position of m (y = **m** * x + b), learning_rate and m_pderivative are variables - make sure to name them \n",
    "- **b = b - learning_rate * b_pderivative** - Position of b (y = m * x + **b**), learning_rate and m_pderivative are variables - make sure to name them "
   ]
  },
  {
   "cell_type": "markdown",
   "metadata": {},
   "source": [
    "##### Script for GD & CF - Order Is Important"
   ]
  },
  {
   "cell_type": "code",
   "execution_count": 140,
   "metadata": {
    "scrolled": true
   },
   "outputs": [
    {
     "name": "stdout",
     "output_type": "stream",
     "text": [
      "m 37860270.74120566, b 37860270.74120566, cost 499723531.6384421, interations 0\n",
      "m -150465196626197.4, b -150465196626197.4, cost 5.699511279765023e+21, interations 1\n",
      "m 5.979825460617873e+20, b 5.979825460617873e+20, cost 9.00207277241412e+34, interations 2\n",
      "m -2.3765171841224065e+27, b -2.3765171841224065e+27, cost 1.421829174856268e+48, interations 3\n",
      "m 9.444814006068872e+33, b 9.444814006068872e+33, cost 2.2457030214945884e+61, interations 4\n",
      "m -3.753581594326906e+40, b -3.753581594326906e+40, cost 3.5469676315087134e+74, interations 5\n",
      "m 1.4917577811713847e+47, b 1.4917577811713847e+47, cost 5.602245380868516e+87, interations 6\n",
      "m -5.9285810678758455e+53, b -5.9285810678758455e+53, cost 8.84844649515813e+100, interations 7\n",
      "m 2.356151509447889e+60, b 2.356151509447889e+60, cost 1.397564727261878e+114, interations 8\n",
      "m -9.363876232635536e+66, b -9.363876232635536e+66, cost 2.2073786262428692e+127, interations 9\n",
      "m 3.721415102064597e+73, b 3.721415102064597e+73, cost 3.486436302052459e+140, interations 10\n",
      "m -1.4789740934002675e+80, b -1.4789740934002675e+80, cost 5.506639388349244e+153, interations 11\n",
      "m 5.877775816343677e+86, b 5.877775816343677e+86, cost 8.697441951102963e+166, interations 12\n",
      "m -2.335960359370845e+93, b -2.335960359370845e+93, cost 1.3737143683832604e+180, interations 13\n",
      "m 9.283632059220597e+99, b 9.283632059220597e+99, cost 2.169708261937075e+193, interations 14\n",
      "m -3.689524262055598e+106, b -3.689524262055598e+106, cost 3.426937979442166e+206, interations 15\n",
      "m 1.4662999560367908e+113, b 1.4662999560367908e+113, cost 5.4126649748102145e+219, interations 16\n",
      "m -5.8274059427803164e+119, b -5.8274059427803164e+119, cost 8.54901439865165e+232, interations 17\n",
      "m 2.3159422382946102e+126, b 2.3159422382946102e+126, cost 1.3502710315248334e+246, interations 18\n",
      "m -9.204075541986398e+132, b -9.204075541986398e+132, cost 2.1326807671100635e+259, interations 19\n",
      "m 3.657906712085089e+139, b 3.657906712085089e+139, cost 3.3684550347383477e+272, interations 20\n",
      "m -1.4537344302836358e+146, b -1.4537344302836358e+146, cost 5.320294296285813e+285, interations 21\n",
      "m 5.777467716193982e+152, b 5.777467716193982e+152, cost 8.403119859751976e+298, interations 22\n",
      "m -2.296095663439102e+159, b -2.296095663439102e+159, cost inf, interations 23\n",
      "m 9.125200788031267e+165, b 9.125200788031267e+165, cost inf, interations 24\n",
      "m -3.626560110181355e+172, b -3.626560110181355e+172, cost inf, interations 25\n",
      "m 1.4412765853885496e+179, b 1.4412765853885496e+179, cost inf, interations 26\n",
      "m -5.727957437565808e+185, b -5.727957437565808e+185, cost inf, interations 27\n",
      "m 2.2764191647309975e+192, b 2.2764191647309975e+192, cost inf, interations 28\n",
      "m -9.047001954953051e+198, b -9.047001954953051e+198, cost inf, interations 29\n",
      "m 3.595482134442329e+205, b 3.595482134442329e+205, cost inf, interations 30\n",
      "m -1.4289254985754064e+212, b -1.4289254985754064e+212, cost inf, interations 31\n",
      "m 5.678871439575843e+218, b 5.678871439575843e+218, cost inf, interations 32\n",
      "m -2.2569112846948303e+225, b -2.2569112846948303e+225, cost inf, interations 33\n",
      "m 8.969473250416313e+231, b 8.969473250416313e+231, cost inf, interations 34\n",
      "m -3.564670482863577e+238, b -3.564670482863577e+238, cost inf, interations 35\n",
      "m 1.4166802549758503e+245, b 1.4166802549758503e+245, cost inf, interations 36\n",
      "m -5.630206086331398e+251, b -5.630206086331398e+251, cost inf, interations 37\n",
      "m 2.2375705783450402e+258, b 2.2375705783450402e+258, cost inf, interations 38\n",
      "m -8.89260893172332e+264, b -8.89260893172332e+264, cost inf, interations 39\n",
      "m 3.534122873167811e+271, b 3.534122873167811e+271, cost inf, interations 40\n",
      "m -1.4045399475615351e+278, b -1.4045399475615351e+278, cost inf, interations 41\n",
      "m 5.5819577730977404e+284, b 5.5819577730977404e+284, cost inf, interations 42\n",
      "m -2.218395613078936e+291, b -2.218395613078936e+291, cost inf, interations 43\n",
      "m 8.816403305388632e+297, b 8.816403305388632e+297, cost inf, interations 44\n",
      "m -3.5038370426358144e+304, b -3.5038370426358144e+304, cost inf, interations 45\n",
      "m inf, b inf, cost inf, interations 46\n",
      "m nan, b nan, cost inf, interations 47\n",
      "m nan, b nan, cost nan, interations 48\n",
      "m nan, b nan, cost nan, interations 49\n"
     ]
    },
    {
     "name": "stderr",
     "output_type": "stream",
     "text": [
      "C:\\Anaconda3\\lib\\site-packages\\ipykernel_launcher.py:10: RuntimeWarning: overflow encountered in double_scalars\n",
      "  # Remove the CWD from sys.path while we load stuff.\n",
      "C:\\Anaconda3\\lib\\site-packages\\ipykernel_launcher.py:11: RuntimeWarning: overflow encountered in multiply\n",
      "  # This is added back by InteractiveShellApp.init_path()\n",
      "C:\\Anaconda3\\lib\\site-packages\\ipykernel_launcher.py:12: RuntimeWarning: overflow encountered in double_scalars\n",
      "  if sys.path[0] == '':\n",
      "C:\\Anaconda3\\lib\\site-packages\\ipykernel_launcher.py:13: RuntimeWarning: invalid value encountered in double_scalars\n",
      "  del sys.path[0]\n",
      "C:\\Anaconda3\\lib\\site-packages\\ipykernel_launcher.py:14: RuntimeWarning: invalid value encountered in double_scalars\n",
      "  \n"
     ]
    }
   ],
   "source": [
    "def gradient_descent(x,y): # Create a function to make gradient descent with x&y \n",
    "    m_gd = b_gd = 0 # future reference for; m*x = b // gd = gradient descent \n",
    "    iterations = 50 # This is a variable and can be changed - Random value to find global minima - how many steps are taken\n",
    "    n = len(x) # This will be used for finding the derivative\n",
    "    learning_rate = 0.5 #This is a variable for the learning rate - steps taken in the gradient descent\n",
    "    \n",
    "    for i in range(iterations): # For loop for how many steps are taken and takes into account the following:\n",
    "                                # Cost - if it's reducing, \n",
    "        y_predicted = m_gd * x + b_gd # y = m*x +b\n",
    "        cost = (1/n) * sum([val ** 2 for val in (y - y_predicted)]) # Finds cost - if you're reducing the cost the GD is working\n",
    "        m_d = -(2/n) * sum(x*(y - y_predicted)) # Caculating patrial derivative of m - Partial derivative because for GD the \"steps\" are smaller\n",
    "        b_d = -(2/n) * sum(y-y_predicted) # Calculating partial derivative of b - Partial derivative because for GD the \"steps\" are smaller\n",
    "        m_gd = m_gd - learning_rate * m_d \n",
    "        b_gd = b_gd - learning_rate * m_d\n",
    "        print(\"m {}, b {}, cost {}, interations {}\".format(m_gd,b_gd, cost, i)) # Print each value increment at each iteration,\n",
    "                                                                         # Format it route to from the interations and m/b values\n",
    "                                                                         # \"i\" is important as it counts each increment of the iterations - otherwise you'd get a constant xx... number\n",
    "\n",
    "# Assign X and Y values - array makes it easier to multiply in the future.\n",
    "x = np.array(df['year'])\n",
    "y = np.array(df['per_capita_income'])\n",
    "\n",
    "gradient_descent(x,y)"
   ]
  },
  {
   "cell_type": "markdown",
   "metadata": {},
   "source": [
    "### Saving A Model"
   ]
  },
  {
   "cell_type": "code",
   "execution_count": 141,
   "metadata": {},
   "outputs": [],
   "source": [
    "# Library for saving a model\n",
    "from sklearn.externals import joblib"
   ]
  },
  {
   "cell_type": "code",
   "execution_count": 142,
   "metadata": {},
   "outputs": [
    {
     "data": {
      "text/plain": [
       "['regression_practice']"
      ]
     },
     "execution_count": 142,
     "metadata": {},
     "output_type": "execute_result"
    }
   ],
   "source": [
    "joblib.dump(reg, 'regression_practice')"
   ]
  },
  {
   "cell_type": "code",
   "execution_count": 143,
   "metadata": {},
   "outputs": [],
   "source": [
    "prac = joblib.load('regression_practice')"
   ]
  },
  {
   "cell_type": "code",
   "execution_count": 144,
   "metadata": {},
   "outputs": [
    {
     "data": {
      "text/plain": [
       "array([82711.94785555])"
      ]
     },
     "execution_count": 144,
     "metadata": {},
     "output_type": "execute_result"
    }
   ],
   "source": [
    "prac.predict([[2070]])"
   ]
  }
 ],
 "metadata": {
  "kernelspec": {
   "display_name": "Python 3",
   "language": "python",
   "name": "python3"
  },
  "language_info": {
   "codemirror_mode": {
    "name": "ipython",
    "version": 3
   },
   "file_extension": ".py",
   "mimetype": "text/x-python",
   "name": "python",
   "nbconvert_exporter": "python",
   "pygments_lexer": "ipython3",
   "version": "3.7.3"
  }
 },
 "nbformat": 4,
 "nbformat_minor": 2
}
