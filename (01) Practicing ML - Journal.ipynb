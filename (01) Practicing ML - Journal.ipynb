{
 "cells": [
  {
   "cell_type": "markdown",
   "metadata": {},
   "source": [
    "# Introduction\n",
    "\n",
    "The aim of this notebook is to centralise all of my ML learning.\n",
    "\n",
    "I will use this notebook as reference for my future projects.\n",
    "\n",
    "As my development will be on-going, so will this notebook - by proxy.\n",
    "\n",
    "## Contents\n",
    "\n",
    "#### ** I want to have a table of contents for easy future reference ** - but can't implement it. \n"
   ]
  },
  {
   "cell_type": "markdown",
   "metadata": {},
   "source": [
    "The required libraries for each topic can be found on the beginning of each topic's section. "
   ]
  },
  {
   "cell_type": "code",
   "execution_count": 422,
   "metadata": {},
   "outputs": [],
   "source": [
    "## General libraries\n",
    "\n",
    "# Ignore Warnings\n",
    "import warnings\n",
    "warnings.simplefilter(action='ignore', category=FutureWarning)\n",
    "\n",
    "# Basic Libraries for: Cleaning & Manipulation\n",
    "import math\n",
    "import numpy as np\n",
    "import pandas as pd\n",
    "\n",
    "# Data Viz\n",
    "import matplotlib.pyplot as plt\n",
    "from word2number import w2n\n",
    "\n",
    "# SciKit Libraries - General ML\n",
    "from sklearn import metrics"
   ]
  },
  {
   "cell_type": "markdown",
   "metadata": {},
   "source": [
    "# ----------------------------------------------------------------------------------------------------------------"
   ]
  },
  {
   "cell_type": "markdown",
   "metadata": {},
   "source": [
    "## Linear Regression\n",
    "\n",
    "###### What is linear regression?\n",
    "\n",
    "The modelling of a relationship between a response variable and one or more explanatory valuable. \n",
    "\n",
    "*Using the explanatory variable(s) to predict a respone variable*\n",
    "\n",
    "*e.g. I have 9 years of experience (explanatory 1), and I scored a 10 in the interview (explanatory 2) - what is the amount of money that I'll earn? (response)*\n",
    "\n",
    "###### Formula:\n",
    "y = mx + b\n",
    "\n",
    "- m : Coefficient \n",
    "- b : Y-intercept\n"
   ]
  },
  {
   "cell_type": "markdown",
   "metadata": {},
   "source": [
    "### 1.1 Linear Regression: Single Variable\n",
    "\n",
    "This example will look at data (unofficial) from 1970 and the mean per capita income (USD).\n",
    "\n",
    "Our model will take in a year and predict a mean income for that given year."
   ]
  },
  {
   "cell_type": "code",
   "execution_count": 378,
   "metadata": {},
   "outputs": [],
   "source": [
    "# Required libraries for Linear Regression\n",
    "import statsmodels.api as sm # OLS\n",
    "from sklearn.linear_model import LinearRegression"
   ]
  },
  {
   "cell_type": "code",
   "execution_count": 379,
   "metadata": {},
   "outputs": [
    {
     "data": {
      "text/html": [
       "<div>\n",
       "<style scoped>\n",
       "    .dataframe tbody tr th:only-of-type {\n",
       "        vertical-align: middle;\n",
       "    }\n",
       "\n",
       "    .dataframe tbody tr th {\n",
       "        vertical-align: top;\n",
       "    }\n",
       "\n",
       "    .dataframe thead th {\n",
       "        text-align: right;\n",
       "    }\n",
       "</style>\n",
       "<table border=\"1\" class=\"dataframe\">\n",
       "  <thead>\n",
       "    <tr style=\"text-align: right;\">\n",
       "      <th></th>\n",
       "      <th>year</th>\n",
       "      <th>per capita income (US$)</th>\n",
       "    </tr>\n",
       "  </thead>\n",
       "  <tbody>\n",
       "    <tr>\n",
       "      <th>0</th>\n",
       "      <td>1970</td>\n",
       "      <td>3399.299037</td>\n",
       "    </tr>\n",
       "    <tr>\n",
       "      <th>1</th>\n",
       "      <td>1971</td>\n",
       "      <td>3768.297935</td>\n",
       "    </tr>\n",
       "    <tr>\n",
       "      <th>2</th>\n",
       "      <td>1972</td>\n",
       "      <td>4251.175484</td>\n",
       "    </tr>\n",
       "    <tr>\n",
       "      <th>3</th>\n",
       "      <td>1973</td>\n",
       "      <td>4804.463248</td>\n",
       "    </tr>\n",
       "    <tr>\n",
       "      <th>4</th>\n",
       "      <td>1974</td>\n",
       "      <td>5576.514583</td>\n",
       "    </tr>\n",
       "  </tbody>\n",
       "</table>\n",
       "</div>"
      ],
      "text/plain": [
       "   year  per capita income (US$)\n",
       "0  1970              3399.299037\n",
       "1  1971              3768.297935\n",
       "2  1972              4251.175484\n",
       "3  1973              4804.463248\n",
       "4  1974              5576.514583"
      ]
     },
     "execution_count": 379,
     "metadata": {},
     "output_type": "execute_result"
    }
   ],
   "source": [
    "# This is the dataset that we'll use for the single vairable linear regression\n",
    "df = pd.read_csv(\"https://raw.githubusercontent.com/codebasics/py/master/ML/1_linear_reg/Exercise/canada_per_capita_income.csv\")\n",
    "df.head()"
   ]
  },
  {
   "cell_type": "markdown",
   "metadata": {},
   "source": [
    "##### Manipulation - Year & Income Per Capita"
   ]
  },
  {
   "cell_type": "code",
   "execution_count": 380,
   "metadata": {},
   "outputs": [
    {
     "data": {
      "text/plain": [
       "Index(['year', 'per_capita_income'], dtype='object')"
      ]
     },
     "execution_count": 380,
     "metadata": {},
     "output_type": "execute_result"
    }
   ],
   "source": [
    "# Renaming the column names to be more accessible\n",
    "df = df.rename(columns={\"per capita income (US$)\" : \"per_capita_income\"})\n",
    "df.columns"
   ]
  },
  {
   "cell_type": "markdown",
   "metadata": {},
   "source": [
    "#### OLS Linear Regression"
   ]
  },
  {
   "cell_type": "code",
   "execution_count": 381,
   "metadata": {},
   "outputs": [
    {
     "name": "stdout",
     "output_type": "stream",
     "text": [
      "                            OLS Regression Results                            \n",
      "==============================================================================\n",
      "Dep. Variable:      per_capita_income   R-squared:                       0.891\n",
      "Model:                            OLS   Adj. R-squared:                  0.888\n",
      "Method:                 Least Squares   F-statistic:                     367.5\n",
      "Date:                Fri, 07 Jan 2022   Prob (F-statistic):           2.80e-23\n",
      "Time:                        21:47:21   Log-Likelihood:                -455.71\n",
      "No. Observations:                  47   AIC:                             915.4\n",
      "Df Residuals:                      45   BIC:                             919.1\n",
      "Df Model:                           1                                         \n",
      "Covariance Type:            nonrobust                                         \n",
      "==============================================================================\n",
      "                 coef    std err          t      P>|t|      [0.025      0.975]\n",
      "------------------------------------------------------------------------------\n",
      "const      -1.632e+06   8.61e+04    -18.951      0.000   -1.81e+06   -1.46e+06\n",
      "year         828.4651     43.214     19.171      0.000     741.427     915.503\n",
      "==============================================================================\n",
      "Omnibus:                        0.511   Durbin-Watson:                   0.230\n",
      "Prob(Omnibus):                  0.775   Jarque-Bera (JB):                0.647\n",
      "Skew:                           0.130   Prob(JB):                        0.724\n",
      "Kurtosis:                       2.487   Cond. No.                     2.93e+05\n",
      "==============================================================================\n",
      "\n",
      "Warnings:\n",
      "[1] Standard Errors assume that the covariance matrix of the errors is correctly specified.\n",
      "[2] The condition number is large, 2.93e+05. This might indicate that there are\n",
      "strong multicollinearity or other numerical problems.\n"
     ]
    }
   ],
   "source": [
    "#Respons variable\n",
    "y = df['per_capita_income']\n",
    "\n",
    "#Explanatory variable\n",
    "x = df['year']\n",
    "\n",
    "x = sm.add_constant(x)\n",
    "\n",
    "# Fit model\n",
    "model = sm.OLS(y, x)\n",
    "model = model.fit()\n",
    "\n",
    "print(model.summary())"
   ]
  },
  {
   "cell_type": "code",
   "execution_count": 382,
   "metadata": {
    "scrolled": false
   },
   "outputs": [
    {
     "data": {
      "image/png": "[encoded data removed]",
      "text/plain": [
       "<Figure size 864x576 with 4 Axes>"
      ]
     },
     "metadata": {
      "needs_background": "light"
     },
     "output_type": "display_data"
    }
   ],
   "source": [
    "# Define figure size\n",
    "fig = plt.figure(figsize=(12,8))\n",
    "\n",
    "# Droduce residual plots\n",
    "fig = sm.graphics.plot_regress_exog(model, 'year', fig=fig)"
   ]
  },
  {
   "cell_type": "code",
   "execution_count": 383,
   "metadata": {
    "scrolled": true
   },
   "outputs": [
    {
     "data": {
      "image/png": "[encoded data removed]",
      "text/plain": [
       "<Figure size 432x288 with 1 Axes>"
      ]
     },
     "metadata": {
      "needs_background": "light"
     },
     "output_type": "display_data"
    }
   ],
   "source": [
    "#define residuals\n",
    "res = model.resid\n",
    "\n",
    "#create Q-Q plot\n",
    "fig = sm.qqplot(res, fit=True, line=\"45\")\n",
    "plt.show()"
   ]
  },
  {
   "cell_type": "markdown",
   "metadata": {},
   "source": [
    "#### Using Sci-Kit "
   ]
  },
  {
   "cell_type": "code",
   "execution_count": 399,
   "metadata": {},
   "outputs": [
    {
     "data": {
      "text/plain": [
       "LinearRegression(copy_X=True, fit_intercept=True, n_jobs=None, normalize=False)"
      ]
     },
     "execution_count": 399,
     "metadata": {},
     "output_type": "execute_result"
    }
   ],
   "source": [
    "# Using Sklearn\n",
    "reg = LinearRegression() # Just a variable to store the model - I change it later in the notebook \n",
    "reg.fit(df[['year']],df[['per_capita_income']])"
   ]
  },
  {
   "cell_type": "code",
   "execution_count": 401,
   "metadata": {
    "scrolled": false
   },
   "outputs": [
    {
     "data": {
      "text/plain": [
       "array([[52887.20514754]])"
      ]
     },
     "execution_count": 401,
     "metadata": {},
     "output_type": "execute_result"
    }
   ],
   "source": [
    "# Predict income for ny year\n",
    "# Can do print(reg.predict([[x]]))\n",
    "reg.predict([[2034]])"
   ]
  },
  {
   "cell_type": "markdown",
   "metadata": {},
   "source": [
    "### 1.2 Linear Regression: Multiple Variable \n",
    "\n",
    "This example looks at data containing: Experience (years), test score (/10), interview score (/10) and salary ($) \n",
    "\n",
    "Our model will take in an experience year, test score and interview score to predict a salary."
   ]
  },
  {
   "cell_type": "code",
   "execution_count": 339,
   "metadata": {},
   "outputs": [
    {
     "data": {
      "text/html": [
       "<div>\n",
       "<style scoped>\n",
       "    .dataframe tbody tr th:only-of-type {\n",
       "        vertical-align: middle;\n",
       "    }\n",
       "\n",
       "    .dataframe tbody tr th {\n",
       "        vertical-align: top;\n",
       "    }\n",
       "\n",
       "    .dataframe thead th {\n",
       "        text-align: right;\n",
       "    }\n",
       "</style>\n",
       "<table border=\"1\" class=\"dataframe\">\n",
       "  <thead>\n",
       "    <tr style=\"text-align: right;\">\n",
       "      <th></th>\n",
       "      <th>experience</th>\n",
       "      <th>test_score(out of 10)</th>\n",
       "      <th>interview_score(out of 10)</th>\n",
       "      <th>salary($)</th>\n",
       "    </tr>\n",
       "  </thead>\n",
       "  <tbody>\n",
       "    <tr>\n",
       "      <th>0</th>\n",
       "      <td>NaN</td>\n",
       "      <td>8.0</td>\n",
       "      <td>9</td>\n",
       "      <td>50000</td>\n",
       "    </tr>\n",
       "    <tr>\n",
       "      <th>1</th>\n",
       "      <td>NaN</td>\n",
       "      <td>8.0</td>\n",
       "      <td>6</td>\n",
       "      <td>45000</td>\n",
       "    </tr>\n",
       "    <tr>\n",
       "      <th>2</th>\n",
       "      <td>five</td>\n",
       "      <td>6.0</td>\n",
       "      <td>7</td>\n",
       "      <td>60000</td>\n",
       "    </tr>\n",
       "    <tr>\n",
       "      <th>3</th>\n",
       "      <td>two</td>\n",
       "      <td>10.0</td>\n",
       "      <td>10</td>\n",
       "      <td>65000</td>\n",
       "    </tr>\n",
       "    <tr>\n",
       "      <th>4</th>\n",
       "      <td>seven</td>\n",
       "      <td>9.0</td>\n",
       "      <td>6</td>\n",
       "      <td>70000</td>\n",
       "    </tr>\n",
       "    <tr>\n",
       "      <th>5</th>\n",
       "      <td>three</td>\n",
       "      <td>7.0</td>\n",
       "      <td>10</td>\n",
       "      <td>62000</td>\n",
       "    </tr>\n",
       "    <tr>\n",
       "      <th>6</th>\n",
       "      <td>ten</td>\n",
       "      <td>NaN</td>\n",
       "      <td>7</td>\n",
       "      <td>72000</td>\n",
       "    </tr>\n",
       "    <tr>\n",
       "      <th>7</th>\n",
       "      <td>eleven</td>\n",
       "      <td>7.0</td>\n",
       "      <td>8</td>\n",
       "      <td>80000</td>\n",
       "    </tr>\n",
       "  </tbody>\n",
       "</table>\n",
       "</div>"
      ],
      "text/plain": [
       "  experience  test_score(out of 10)  interview_score(out of 10)  salary($)\n",
       "0        NaN                    8.0                           9      50000\n",
       "1        NaN                    8.0                           6      45000\n",
       "2       five                    6.0                           7      60000\n",
       "3        two                   10.0                          10      65000\n",
       "4      seven                    9.0                           6      70000\n",
       "5      three                    7.0                          10      62000\n",
       "6        ten                    NaN                           7      72000\n",
       "7     eleven                    7.0                           8      80000"
      ]
     },
     "execution_count": 339,
     "metadata": {},
     "output_type": "execute_result"
    }
   ],
   "source": [
    "# This is the dataset that we'll use for the multi vairable linear regression\n",
    "df2 = pd.read_csv(\"https://raw.githubusercontent.com/codebasics/py/master/ML/2_linear_reg_multivariate/Exercise/hiring.csv\")\n",
    "df2"
   ]
  },
  {
   "cell_type": "markdown",
   "metadata": {},
   "source": [
    "##### Manipulation - Experience, Test Score, Interview Score & Salary"
   ]
  },
  {
   "cell_type": "code",
   "execution_count": 340,
   "metadata": {},
   "outputs": [],
   "source": [
    "# Filling in the null values - to use the values in the LR, we need to convert the words to numbers\n",
    "df2.experience = df2.experience.fillna(\"zero\")\n",
    "df2.experience = df2.experience.apply(w2n.word_to_num)"
   ]
  },
  {
   "cell_type": "code",
   "execution_count": 341,
   "metadata": {},
   "outputs": [
    {
     "data": {
      "text/html": [
       "<div>\n",
       "<style scoped>\n",
       "    .dataframe tbody tr th:only-of-type {\n",
       "        vertical-align: middle;\n",
       "    }\n",
       "\n",
       "    .dataframe tbody tr th {\n",
       "        vertical-align: top;\n",
       "    }\n",
       "\n",
       "    .dataframe thead th {\n",
       "        text-align: right;\n",
       "    }\n",
       "</style>\n",
       "<table border=\"1\" class=\"dataframe\">\n",
       "  <thead>\n",
       "    <tr style=\"text-align: right;\">\n",
       "      <th></th>\n",
       "      <th>experience</th>\n",
       "      <th>test_score(out of 10)</th>\n",
       "      <th>interview_score(out of 10)</th>\n",
       "      <th>salary($)</th>\n",
       "    </tr>\n",
       "  </thead>\n",
       "  <tbody>\n",
       "    <tr>\n",
       "      <th>0</th>\n",
       "      <td>0</td>\n",
       "      <td>8.0</td>\n",
       "      <td>9</td>\n",
       "      <td>50000</td>\n",
       "    </tr>\n",
       "    <tr>\n",
       "      <th>1</th>\n",
       "      <td>0</td>\n",
       "      <td>8.0</td>\n",
       "      <td>6</td>\n",
       "      <td>45000</td>\n",
       "    </tr>\n",
       "    <tr>\n",
       "      <th>2</th>\n",
       "      <td>5</td>\n",
       "      <td>6.0</td>\n",
       "      <td>7</td>\n",
       "      <td>60000</td>\n",
       "    </tr>\n",
       "    <tr>\n",
       "      <th>3</th>\n",
       "      <td>2</td>\n",
       "      <td>10.0</td>\n",
       "      <td>10</td>\n",
       "      <td>65000</td>\n",
       "    </tr>\n",
       "    <tr>\n",
       "      <th>4</th>\n",
       "      <td>7</td>\n",
       "      <td>9.0</td>\n",
       "      <td>6</td>\n",
       "      <td>70000</td>\n",
       "    </tr>\n",
       "    <tr>\n",
       "      <th>5</th>\n",
       "      <td>3</td>\n",
       "      <td>7.0</td>\n",
       "      <td>10</td>\n",
       "      <td>62000</td>\n",
       "    </tr>\n",
       "    <tr>\n",
       "      <th>6</th>\n",
       "      <td>10</td>\n",
       "      <td>7.0</td>\n",
       "      <td>7</td>\n",
       "      <td>72000</td>\n",
       "    </tr>\n",
       "    <tr>\n",
       "      <th>7</th>\n",
       "      <td>11</td>\n",
       "      <td>7.0</td>\n",
       "      <td>8</td>\n",
       "      <td>80000</td>\n",
       "    </tr>\n",
       "  </tbody>\n",
       "</table>\n",
       "</div>"
      ],
      "text/plain": [
       "   experience  test_score(out of 10)  interview_score(out of 10)  salary($)\n",
       "0           0                    8.0                           9      50000\n",
       "1           0                    8.0                           6      45000\n",
       "2           5                    6.0                           7      60000\n",
       "3           2                   10.0                          10      65000\n",
       "4           7                    9.0                           6      70000\n",
       "5           3                    7.0                          10      62000\n",
       "6          10                    7.0                           7      72000\n",
       "7          11                    7.0                           8      80000"
      ]
     },
     "execution_count": 341,
     "metadata": {},
     "output_type": "execute_result"
    }
   ],
   "source": [
    "# Since the \"Test Score (Out of 10)\" are floats, we need to find the mean to find the interger mean.\n",
    "mean_test_score = math.floor(df2['test_score(out of 10)'].mean())\n",
    "df2['test_score(out of 10)'] = df2['test_score(out of 10)'].fillna(mean_test_score)\n",
    "df2"
   ]
  },
  {
   "cell_type": "code",
   "execution_count": 342,
   "metadata": {},
   "outputs": [
    {
     "data": {
      "text/plain": [
       "<matplotlib.legend.Legend at 0x28b24917a90>"
      ]
     },
     "execution_count": 342,
     "metadata": {},
     "output_type": "execute_result"
    },
    {
     "data": {
      "image/png": "[encoded data removed]",
      "text/plain": [
       "<Figure size 1440x1080 with 3 Axes>"
      ]
     },
     "metadata": {
      "needs_background": "light"
     },
     "output_type": "display_data"
    }
   ],
   "source": [
    "# Let's see what our data looks like\n",
    "%matplotlib inline\n",
    "\n",
    "# Set graph size\n",
    "plt.figure(figsize=(20,15))\n",
    "\n",
    "#Plotting data - Experience \n",
    "plt.subplot(331)\n",
    "\n",
    "plt.scatter(df2['experience'], df2['salary($)'], color='red', marker = '+', label = 'Experience') # , s = x : set marker size\n",
    "plt.xlabel('Experience (Years)')\n",
    "plt.ylabel('Salary ($)')\n",
    "plt.minorticks_on()\n",
    "plt.legend()\n",
    "\n",
    "# Plotting data - Test Score\n",
    "plt.subplot(332)\n",
    "\n",
    "plt.scatter(df2['test_score(out of 10)'], df2['salary($)'], color='green', marker = '+', label = 'Test Score')\n",
    "plt.xlabel('Test Score (/10)')\n",
    "plt.ylabel('Salary ($)')\n",
    "plt.minorticks_on()\n",
    "plt.legend()\n",
    "\n",
    "# Plotting data - Interview Score\n",
    "plt.subplot(333)\n",
    "\n",
    "plt.scatter(df2['interview_score(out of 10)'], df2['salary($)'], color='blue', marker = '+', label = 'Interview Score')\n",
    "plt.xlabel('Interview Score (/10)')\n",
    "plt.ylabel('Salary ($)')\n",
    "plt.minorticks_on()\n",
    "plt.legend()"
   ]
  },
  {
   "cell_type": "markdown",
   "metadata": {},
   "source": [
    "##### Multi Variable Linear Regression"
   ]
  },
  {
   "cell_type": "code",
   "execution_count": 343,
   "metadata": {},
   "outputs": [
    {
     "data": {
      "text/plain": [
       "LinearRegression(copy_X=True, fit_intercept=True, n_jobs=None, normalize=False)"
      ]
     },
     "execution_count": 343,
     "metadata": {},
     "output_type": "execute_result"
    }
   ],
   "source": [
    "# Creating the model\n",
    "reg2 = LinearRegression()\n",
    "\n",
    "# Use this format for multiple variables - reg.fit(df[['col1', 'col2', 'col3']], df['response variable'])\n",
    "# Since the response variable column in this example will have invalid syntax - we need to put it in it's own s.brackets.\n",
    "## \"($)\" - flags an error\n",
    "reg2.fit(df2[['experience', 'test_score(out of 10)', 'interview_score(out of 10)']],df2['salary($)'])"
   ]
  },
  {
   "cell_type": "code",
   "execution_count": 344,
   "metadata": {},
   "outputs": [
    {
     "data": {
      "text/plain": [
       "array([60857.27438577])"
      ]
     },
     "execution_count": 344,
     "metadata": {},
     "output_type": "execute_result"
    }
   ],
   "source": [
    "# Use - modelname.predict([[1,2,3]]) - to use the model to predict\n",
    "    # The explanatory values should be in the order of how the model was fitted\n",
    "reg2.predict([[3, 8, 9]])"
   ]
  },
  {
   "cell_type": "code",
   "execution_count": 345,
   "metadata": {},
   "outputs": [
    {
     "data": {
      "text/plain": [
       "array([61558.23430121, 57234.04545532, 69624.08143084])"
      ]
     },
     "execution_count": 345,
     "metadata": {},
     "output_type": "execute_result"
    }
   ],
   "source": [
    "# Multi variable prediction\n",
    "    # modelname.predict([[x,x..], [x,x...]]) \n",
    "        # As long as the brackets open like ([[]]), then you can include as many variables as you want\n",
    "        \n",
    "reg2.predict([[4,7,9], [1,9,9], [6, 8, 9]])"
   ]
  },
  {
   "cell_type": "markdown",
   "metadata": {},
   "source": [
    "# ----------------------------------------------------------------------------------------------------------------"
   ]
  },
  {
   "cell_type": "markdown",
   "metadata": {},
   "source": [
    "## 2. Saving A Model\n",
    "\n",
    "Here we'll look at how we go about saving a model.\n",
    "\n",
    "It makes sure our model is safely stored, and so that we can easily share our model."
   ]
  },
  {
   "cell_type": "code",
   "execution_count": 374,
   "metadata": {},
   "outputs": [],
   "source": [
    "# Required library for saving a model\n",
    "import joblib"
   ]
  },
  {
   "cell_type": "code",
   "execution_count": 346,
   "metadata": {},
   "outputs": [
    {
     "data": {
      "text/plain": [
       "['(01) practice_model_regression_multi']"
      ]
     },
     "execution_count": 346,
     "metadata": {},
     "output_type": "execute_result"
    }
   ],
   "source": [
    "# joblib.dump(model_variable_name, \"model_save_name\")\n",
    "joblib.dump(reg2, '(01) practice_model_regression_multi')"
   ]
  },
  {
   "cell_type": "code",
   "execution_count": 347,
   "metadata": {},
   "outputs": [],
   "source": [
    "# new_model_variable = joblib.load(\"model_save_name\")\n",
    "prac = joblib.load('(01) practice_model_regression_multi')"
   ]
  },
  {
   "cell_type": "code",
   "execution_count": 348,
   "metadata": {},
   "outputs": [
    {
     "data": {
      "text/plain": [
       "array([55086.56288895])"
      ]
     },
     "execution_count": 348,
     "metadata": {},
     "output_type": "execute_result"
    }
   ],
   "source": [
    "prac.predict([[1,9,8]])"
   ]
  },
  {
   "cell_type": "markdown",
   "metadata": {},
   "source": [
    "# ----------------------------------------------------------------------------------------------------------------"
   ]
  },
  {
   "cell_type": "markdown",
   "metadata": {},
   "source": [
    "## 3. Gradient Descent & Cost Function\n",
    "\n",
    "We can use this method to find the best coefficient (m) and y-intercept (b); this will allow us to get the best score for our model - with the lowest cost function.\n",
    "\n",
    "We can substitute these values in the formula:\n",
    "    \n",
    "    - y = (m * x) + b"
   ]
  },
  {
   "cell_type": "markdown",
   "metadata": {},
   "source": [
    "Formulas:\n",
    "\n",
    "- **mse or cf = (1/n) * sum([val ** 2 for val in (y - y_predicted])])** - Mean Squared Error / Cost Function\n",
    "- **mse or cf = (1/n) * sum((y - y_predicted)**2)** - Mean Sqaured Error / Cost Function\n",
    "\n",
    "\n",
    "- **partial derivative of *m* = -(2/n) * sum(x*(y - y_predicted))** - Partial Derivative (m) \n",
    "- **partial derivative of *b* = -(2/n) * sum(y - y_predicted)** - Partial Derivative (b)\n",
    "\n",
    "\n",
    "- **m = m - learning_rate * m_pderivative** - Position of m (y = **m** * x + b), learning_rate and m_pderivative are variables - make sure to name them \n",
    "- **b = b - learning_rate * b_pderivative** - Position of b (y = m * x + **b**), learning_rate and m_pderivative are variables - make sure to name them "
   ]
  },
  {
   "cell_type": "markdown",
   "metadata": {},
   "source": [
    "##### Script for GD & CF - Order Is Important\n",
    "\n",
    "This GD uses the first dataset, from the single variable linear regression"
   ]
  },
  {
   "cell_type": "code",
   "execution_count": 349,
   "metadata": {
    "scrolled": true
   },
   "outputs": [
    {
     "name": "stdout",
     "output_type": "stream",
     "text": [
      "m 75720.54148241132, b 75720.54148241132, cost 499723531.6384421, interations 0\n",
      "m -601709648.3039906, b -601709648.3039906, cost 2.279232062602457e+16, interations 1\n",
      "m 4782058623553.389, b 4782058623553.389, cost 1.4396083930024966e+24, interations 2\n",
      "m -3.800518137180091e+16, b -3.800518137180091e+16, cost 9.092853566237402e+31, interations 3\n",
      "m 3.02044354703682e+20, b 3.02044354703682e+20, cost 5.743227559585894e+39, interations 4\n",
      "m -2.400483010878487e+24, b -2.400483010878487e+24, cost 3.6275370059473965e+47, interations 5\n",
      "m 1.9077723505772253e+28, b 1.9077723505772253e+28, cost 2.2912246803723414e+55, interations 6\n",
      "m -1.516192918313967e+32, b -1.516192918313967e+32, cost 1.4471831789283914e+63, interations 7\n",
      "m 1.2049870441040175e+36, b 1.2049870441040175e+36, cost 9.140697424021027e+70, interations 8\n",
      "m -9.576576693638563e+39, b -9.576576693638563e+39, cost 5.7734466938299645e+78, interations 9\n",
      "m 7.610938359701117e+43, b 7.610938359701117e+43, cost 3.6466240134916314e+86, interations 10\n",
      "m -6.048756728868338e+47, b -6.048756728868338e+47, cost 2.303280414797129e+94, interations 11\n",
      "m 4.807220376235814e+51, b 4.807220376235814e+51, cost 1.4547978210971157e+102, interations 12\n",
      "m -3.820515319355607e+55, b -3.820515319355607e+55, cost 9.188793021779453e+109, interations 13\n",
      "m 3.036336211584336e+59, b 3.036336211584336e+59, cost 5.803824832060036e+117, interations 14\n",
      "m -2.4131136297428363e+63, b -2.4131136297428363e+63, cost 3.665811451122832e+125, interations 15\n",
      "m 1.9178104742926962e+67, b 1.9178104742926962e+67, cost 2.315399582866718e+133, interations 16\n",
      "m -1.5241706689538441e+71, b -1.5241706689538441e+71, cost 1.4624525292203104e+141, interations 17\n",
      "m 1.211327323131857e+75, b 1.211327323131857e+75, cost 9.237141684092638e+148, interations 18\n",
      "m -9.62696575687892e+78, b -9.62696575687892e+78, cost 5.834362810907211e+156, interations 19\n",
      "m 7.650984825843891e+82, b 7.650984825843891e+82, cost 3.68509984727389e+164, interations 20\n",
      "m -6.080583465612268e+86, b -6.080583465612268e+86, cost 2.3275825183498407e+172, interations 21\n",
      "m 4.832514522494713e+90, b 4.832514522494713e+90, cost 1.4701475141129667e+180, interations 22\n",
      "m -3.8406177206829645e+94, b -3.8406177206829645e+94, cost 9.285744742510046e+187, interations 23\n",
      "m 3.0523124985477266e+98, b 3.0523124985477266e+98, cost 5.865061471404667e+195, interations 24\n",
      "m -2.425810707120812e+102, b -2.425810707120812e+102, cost 3.704489733158123e+203, interations 25\n",
      "m 1.9279014155928707e+106, b 1.9279014155928707e+106, cost 2.339829556771422e+211, interations 26\n",
      "m -1.532190396115639e+110, b -1.532190396115639e+110, cost 1.477882987699311e+219, interations 27\n",
      "m 1.2177009627990029e+114, b 1.2177009627990029e+114, cost 9.334603535587409e+226, interations 28\n",
      "m -9.67761995219886e+117, b -9.67761995219886e+117, cost 5.895921659010891e+234, interations 29\n",
      "m 7.691242004434275e+121, b 7.691242004434275e+121, cost 3.7239816427839576e+242, interations 30\n",
      "m -6.112577665062519e+125, b -6.112577665062519e+125, cost 2.3521410354218362e+250, interations 31\n",
      "m 4.8579417589356453e+129, b 4.8579417589356453e+129, cost 1.4856591630186704e+258, interations 32\n",
      "m -3.8608258947936625e+133, b -3.8608258947936625e+133, cost 9.383719408923524e+265, interations 33\n",
      "m 3.068372847922969e+137, b 3.068372847922969e+137, cost 5.926944223632912e+273, interations 34\n",
      "m -2.4385745926971102e+141, b -2.4385745926971102e+141, cost 3.74357611296962e+281, interations 35\n",
      "m 1.9380454523879828e+145, b 1.9380454523879828e+145, cost 2.3645172933661677e+289, interations 36\n",
      "m -1.5402523206671774e+149, b -1.5402523206671774e+149, cost 1.493476254231305e+297, interations 37\n",
      "m 1.2241081386390998e+153, b 1.2241081386390998e+153, cost 9.433093715197295e+304, interations 38\n",
      "m -9.72854067464359e+156, b -9.72854067464359e+156, cost inf, interations 39\n",
      "m 7.731711004177752e+160, b 7.731711004177752e+160, cost inf, interations 40\n",
      "m -6.144740208357447e+164, b -6.144740208357447e+164, cost inf, interations 41\n",
      "m 4.883502785839081e+168, b 4.883502785839081e+168, cost inf, interations 42\n",
      "m -3.881140398232237e+172, b -3.881140398232237e+172, cost inf, interations 43\n",
      "m 3.084517702021159e+176, b 3.084517702021159e+176, cost inf, interations 44\n",
      "m -2.4514056379963466e+180, b -2.4514056379963466e+180, cost inf, interations 45\n",
      "m 1.948242864050534e+184, b 1.948242864050534e+184, cost inf, interations 46\n",
      "m -1.5483566646384148e+188, b -1.5483566646384148e+188, cost inf, interations 47\n",
      "m 1.2305490271093898e+192, b 1.2305490271093898e+192, cost inf, interations 48\n",
      "m -9.779729326598572e+195, b -9.779729326598572e+195, cost inf, interations 49\n"
     ]
    },
    {
     "name": "stderr",
     "output_type": "stream",
     "text": [
      "C:\\Anaconda3\\lib\\site-packages\\ipykernel_launcher.py:10: RuntimeWarning: overflow encountered in double_scalars\n",
      "  # Remove the CWD from sys.path while we load stuff.\n"
     ]
    }
   ],
   "source": [
    "def gradient_descent(x,y): # Create a function to make gradient descent with x&y \n",
    "    m_gd = b_gd = 0 # future reference for; m*x = b // gd = gradient descent \n",
    "    iterations = 50 # This is a variable and can be changed - Random value to find global minima - how many steps are taken\n",
    "    n = len(x) # This will be used for finding the derivative\n",
    "    learning_rate = 0.001 #This is a variable for the learning rate - steps taken in the gradient descent\n",
    "    \n",
    "    for i in range(iterations): # For loop for how many steps are taken and takes into account the following:\n",
    "                                # Cost - if it's reducing, \n",
    "        y_predicted = m_gd * x + b_gd # y = m*x +b\n",
    "        cost = (1/n) * sum([val ** 2 for val in (y - y_predicted)]) # Finds cost - if you're reducing the cost the GD is working\n",
    "        m_d = -(2/n) * sum(x*(y - y_predicted)) # Caculating patrial derivative of m - Partial derivative because for GD the \"steps\" are smaller\n",
    "        b_d = -(2/n) * sum(y-y_predicted) # Calculating partial derivative of b - Partial derivative because for GD the \"steps\" are smaller\n",
    "        m_gd = m_gd - learning_rate * m_d \n",
    "        b_gd = b_gd - learning_rate * m_d\n",
    "        print(\"m {}, b {}, cost {}, interations {}\".format(m_gd,b_gd, cost, i)) # Print each value increment at each iteration,\n",
    "                                                                         # Format it route to from the interations and m/b values\n",
    "                                                                         # \"i\" is important as it counts each increment of the iterations - otherwise you'd get a constant xx... number\n",
    "\n",
    "# Assign X and Y values - array makes it easier to multiply in the future.\n",
    "x = np.array(df['year'])\n",
    "y = np.array(df['per_capita_income'])\n",
    "\n",
    "gradient_descent(x,y)"
   ]
  },
  {
   "cell_type": "markdown",
   "metadata": {},
   "source": [
    "# ----------------------------------------------------------------------------------------------------------------"
   ]
  },
  {
   "cell_type": "markdown",
   "metadata": {},
   "source": [
    "## 4. Training & Testing Model\n",
    "\n",
    "This allows us to, as is stated in the topic name; train our model and then test our model.\n",
    "\n",
    "Using this method also allows us to get a better understanding of the relationship between our variables (model score) \n",
    "\n",
    "How? We are able to split our data into 4 groups:\n",
    "    - x_train = the explanatory set to predict the response variables\n",
    "    - y_train = the response set - the set that we aim to predict in the testing phase\n",
    "    \n",
    "    - x_test  = the explanatory set that we use to test our fitted, trained model. \n",
    "    - y_test  = the reponse set that we use to test our fitted, trained model. \n",
    "\n",
    "80% of the data is used for training the model, 20% of the data is used to test the model. \n",
    "##### To get the best score with this method you'd have to iterate the training/testing datasets manually to get the best training set\n",
    "##### An alternative to this would be 1) Gradient Descent (Previous) or, 2) K fold cross-validation (Further Down)\n",
    "------------------\n",
    "\n",
    "\n",
    "\n",
    "The dataset used for training/testing is the 2nd dataset, from the multi variable dataset."
   ]
  },
  {
   "cell_type": "code",
   "execution_count": 373,
   "metadata": {},
   "outputs": [],
   "source": [
    "# Required library for splitting data into training and testing. \n",
    "from sklearn.model_selection import train_test_split # Allows us to split our data into training and testing sets"
   ]
  },
  {
   "cell_type": "code",
   "execution_count": 350,
   "metadata": {},
   "outputs": [],
   "source": [
    "# Splitting the dataset \n",
    "x_df2 = df2[['experience', 'test_score(out of 10)', 'interview_score(out of 10)']]\n",
    "y_df2 = df2[['salary($)']]\n",
    "\n",
    "# If using a single column for \"x\" - do:\n",
    "    ## x = x.values.reshape(-1,1) # Reshapes the data to make it usable"
   ]
  },
  {
   "cell_type": "code",
   "execution_count": 357,
   "metadata": {},
   "outputs": [],
   "source": [
    "# Syntax to split data into train & test data\n",
    "x_train, x_test, y_train, y_test = train_test_split(x_df2,y_df2,test_size=0.3) #Can add ,random_state = 10) to keep samples the same"
   ]
  },
  {
   "cell_type": "code",
   "execution_count": 421,
   "metadata": {},
   "outputs": [],
   "source": [
    "# Doing LR with the split data\n",
    "## e_t_i = experience, test score, interview score \n",
    "e_t_i = LinearRegression() # This is just a classifier to fit the model later on (just a variable to store model)"
   ]
  },
  {
   "cell_type": "code",
   "execution_count": 359,
   "metadata": {},
   "outputs": [
    {
     "data": {
      "text/plain": [
       "LinearRegression(copy_X=True, fit_intercept=True, n_jobs=None, normalize=False)"
      ]
     },
     "execution_count": 359,
     "metadata": {},
     "output_type": "execute_result"
    }
   ],
   "source": [
    "# Fit the model with train data\n",
    "e_t_i.fit(x_train, y_train)"
   ]
  },
  {
   "cell_type": "code",
   "execution_count": 402,
   "metadata": {},
   "outputs": [
    {
     "data": {
      "text/plain": [
       "0.9693592982612209"
      ]
     },
     "execution_count": 402,
     "metadata": {},
     "output_type": "execute_result"
    }
   ],
   "source": [
    "# Check the score of the model - how accurate the model is\n",
    "e_t_i.score(x_test,y_test) # This model is 96.9% accurate"
   ]
  },
  {
   "cell_type": "code",
   "execution_count": 403,
   "metadata": {},
   "outputs": [
    {
     "data": {
      "text/plain": [
       "array([[48153.43759221],\n",
       "       [78197.69843612],\n",
       "       [62611.97993508]])"
      ]
     },
     "execution_count": 403,
     "metadata": {},
     "output_type": "execute_result"
    }
   ],
   "source": [
    "# Test our trained model using the test data \n",
    "e_t_i.predict(x_test)"
   ]
  },
  {
   "cell_type": "code",
   "execution_count": 404,
   "metadata": {},
   "outputs": [
    {
     "data": {
      "text/plain": [
       "array([[56403.06875184]])"
      ]
     },
     "execution_count": 404,
     "metadata": {},
     "output_type": "execute_result"
    }
   ],
   "source": [
    "# Since we know it's a high scoring model, we can input any variables we want\n",
    "e_t_i.predict([[1, 8, 10]])"
   ]
  },
  {
   "cell_type": "markdown",
   "metadata": {},
   "source": [
    "# ----------------------------------------------------------------------------------------------------------------"
   ]
  },
  {
   "cell_type": "markdown",
   "metadata": {},
   "source": [
    "## Logistic Regression\n",
    "\n",
    "###### What is logistic regression?\n",
    "\n",
    "A classification model used to predict the catergorical.\n",
    "Whether something happens or not. \n",
    "\n",
    "Binary - predicts a reponse variable based on one explanatory variable.\n",
    "    - e.g. if a person will buy a new smartphone based on age; If I'm x years old, am I likely to buy a new phone?\n",
    "    \n",
    "Multiclass - predicts a response variable based on multiple explanatory varibles. \n",
    "    - e.g. Fraud: When a purchase happens, purchase amount, type of purchase etc. If it breaks usual trends, is it likely to be fraud?\n",
    "\n",
    "##### Formula:\n",
    "Sigmoid(x) = 1 / 1 + e^(-x)   | e = Euler's number = ~2.71828\n",
    "        - Get your linear regression formula (m*x + b) and replace x in the Sigmoid formula\n",
    "            - Sigmoid = 1 / 1 + e^(mx+b)\n",
    "    "
   ]
  },
  {
   "cell_type": "markdown",
   "metadata": {},
   "source": [
    "### 5.1 Logistic Regression - Binary\n",
    "\n",
    "This example will look at a range of people of different ages and if they buy life insurance.\n",
    "\n",
    "Our model should take in a given age and print a chance of us buying life insurance."
   ]
  },
  {
   "cell_type": "code",
   "execution_count": 371,
   "metadata": {},
   "outputs": [],
   "source": [
    "# Import Logistic Regressions\n",
    "from sklearn.linear_model import LogisticRegression"
   ]
  },
  {
   "cell_type": "code",
   "execution_count": 362,
   "metadata": {},
   "outputs": [
    {
     "name": "stdout",
     "output_type": "stream",
     "text": [
      "The columns in this dataset are: ['age', 'bought_insurance']\n",
      "The shape of this dataset is: 27 rows and 2 columns.\n"
     ]
    }
   ],
   "source": [
    "# This is the dataset that we'll use for the single vairable logistic regression\n",
    "df3 = pd.read_csv('https://raw.githubusercontent.com/codebasics/py/master/ML/7_logistic_reg/insurance_data.csv')\n",
    "df3_cols = list(df3.columns)\n",
    "\n",
    "print(f\"The columns in this dataset are: {df3_cols}\")\n",
    "print(f\"The shape of this dataset is: {df3.shape[0]} rows and {df3.shape[1]} columns.\")"
   ]
  },
  {
   "cell_type": "code",
   "execution_count": 363,
   "metadata": {},
   "outputs": [
    {
     "data": {
      "text/html": [
       "<div>\n",
       "<style scoped>\n",
       "    .dataframe tbody tr th:only-of-type {\n",
       "        vertical-align: middle;\n",
       "    }\n",
       "\n",
       "    .dataframe tbody tr th {\n",
       "        vertical-align: top;\n",
       "    }\n",
       "\n",
       "    .dataframe thead th {\n",
       "        text-align: right;\n",
       "    }\n",
       "</style>\n",
       "<table border=\"1\" class=\"dataframe\">\n",
       "  <thead>\n",
       "    <tr style=\"text-align: right;\">\n",
       "      <th></th>\n",
       "      <th>age</th>\n",
       "      <th>bought_insurance</th>\n",
       "    </tr>\n",
       "  </thead>\n",
       "  <tbody>\n",
       "    <tr>\n",
       "      <th>0</th>\n",
       "      <td>22</td>\n",
       "      <td>0</td>\n",
       "    </tr>\n",
       "    <tr>\n",
       "      <th>1</th>\n",
       "      <td>25</td>\n",
       "      <td>0</td>\n",
       "    </tr>\n",
       "    <tr>\n",
       "      <th>2</th>\n",
       "      <td>47</td>\n",
       "      <td>1</td>\n",
       "    </tr>\n",
       "    <tr>\n",
       "      <th>3</th>\n",
       "      <td>52</td>\n",
       "      <td>0</td>\n",
       "    </tr>\n",
       "    <tr>\n",
       "      <th>4</th>\n",
       "      <td>46</td>\n",
       "      <td>1</td>\n",
       "    </tr>\n",
       "  </tbody>\n",
       "</table>\n",
       "</div>"
      ],
      "text/plain": [
       "   age  bought_insurance\n",
       "0   22                 0\n",
       "1   25                 0\n",
       "2   47                 1\n",
       "3   52                 0\n",
       "4   46                 1"
      ]
     },
     "execution_count": 363,
     "metadata": {},
     "output_type": "execute_result"
    }
   ],
   "source": [
    "df3.head()"
   ]
  },
  {
   "cell_type": "code",
   "execution_count": 364,
   "metadata": {},
   "outputs": [
    {
     "data": {
      "text/plain": [
       "<matplotlib.collections.PathCollection at 0x28b24f5d400>"
      ]
     },
     "execution_count": 364,
     "metadata": {},
     "output_type": "execute_result"
    },
    {
     "data": {
      "image/png": "[encoded data removed]",
      "text/plain": [
       "<Figure size 432x288 with 1 Axes>"
      ]
     },
     "metadata": {
      "needs_background": "light"
     },
     "output_type": "display_data"
    }
   ],
   "source": [
    "# Visualising how our data looks\n",
    "plt.scatter(df3['age'], df3['bought_insurance'], color='red')"
   ]
  },
  {
   "cell_type": "code",
   "execution_count": 411,
   "metadata": {},
   "outputs": [],
   "source": [
    "##Split Data\n",
    "log_xtrain, log_xtest, log_ytrain, log_ytest = train_test_split(df3[['age']], df3.bought_insurance, test_size = 0.2)\n",
    "log_xtrain = log_xtrain.sort_values(by=\"age\")"
   ]
  },
  {
   "cell_type": "code",
   "execution_count": 412,
   "metadata": {},
   "outputs": [],
   "source": [
    "## Assign model to a variable\n",
    "log_bi = LogisticRegression() "
   ]
  },
  {
   "cell_type": "code",
   "execution_count": 413,
   "metadata": {},
   "outputs": [
    {
     "data": {
      "text/plain": [
       "LogisticRegression(C=1.0, class_weight=None, dual=False, fit_intercept=True,\n",
       "                   intercept_scaling=1, l1_ratio=None, max_iter=100,\n",
       "                   multi_class='warn', n_jobs=None, penalty='l2',\n",
       "                   random_state=None, solver='warn', tol=0.0001, verbose=0,\n",
       "                   warm_start=False)"
      ]
     },
     "execution_count": 413,
     "metadata": {},
     "output_type": "execute_result"
    }
   ],
   "source": [
    "# Fitting Model\n",
    "log_bi.fit(log_xtrain, log_ytrain)"
   ]
  },
  {
   "cell_type": "code",
   "execution_count": 414,
   "metadata": {},
   "outputs": [
    {
     "data": {
      "text/plain": [
       "array([0, 0, 1, 1, 1, 0], dtype=int64)"
      ]
     },
     "execution_count": 414,
     "metadata": {},
     "output_type": "execute_result"
    }
   ],
   "source": [
    "log_bi.predict(log_xtest) "
   ]
  },
  {
   "cell_type": "code",
   "execution_count": 415,
   "metadata": {},
   "outputs": [
    {
     "data": {
      "text/plain": [
       "1.0"
      ]
     },
     "execution_count": 415,
     "metadata": {},
     "output_type": "execute_result"
    }
   ],
   "source": [
    "# Testing model accuracy\n",
    "log_bi.score(log_xtest, log_ytest) # Model is 100% accurate"
   ]
  },
  {
   "cell_type": "code",
   "execution_count": 416,
   "metadata": {},
   "outputs": [
    {
     "data": {
      "text/plain": [
       "array([[0.52306029, 0.47693971],\n",
       "       [0.50133138, 0.49866862],\n",
       "       [0.35851925, 0.64148075],\n",
       "       [0.36858167, 0.63141833],\n",
       "       [0.36353553, 0.63646447],\n",
       "       [0.53930435, 0.46069565]])"
      ]
     },
     "execution_count": 416,
     "metadata": {},
     "output_type": "execute_result"
    }
   ],
   "source": [
    "log_bi.predict_proba(log_xtest)"
   ]
  },
  {
   "cell_type": "code",
   "execution_count": 420,
   "metadata": {},
   "outputs": [
    {
     "name": "stdout",
     "output_type": "stream",
     "text": [
      "[0]\n",
      "[1]\n"
     ]
    }
   ],
   "source": [
    "# Predicting probablity if someone gets insurance by age. 0 = Won't Get, 1 = Will Get\n",
    "# Remember to use; ([[x]]) - when predicting with random int. \n",
    "print(log_bi.predict([[16]]))\n",
    "print(log_bi.predict([[56]]))"
   ]
  },
  {
   "cell_type": "markdown",
   "metadata": {},
   "source": [
    "Our model is 100% accurate, above we can see that; \n",
    "- If the individual is 16 - they won't get the life insurance.\n",
    "- If the individual is 56 - they will get the life insurance."
   ]
  },
  {
   "cell_type": "markdown",
   "metadata": {},
   "source": [
    "## 5.2 Logistic Regression - Multiclass"
   ]
  },
  {
   "cell_type": "code",
   "execution_count": null,
   "metadata": {},
   "outputs": [],
   "source": []
  },
  {
   "cell_type": "code",
   "execution_count": null,
   "metadata": {},
   "outputs": [],
   "source": []
  },
  {
   "cell_type": "code",
   "execution_count": null,
   "metadata": {},
   "outputs": [],
   "source": []
  },
  {
   "cell_type": "code",
   "execution_count": null,
   "metadata": {},
   "outputs": [],
   "source": []
  }
 ],
 "metadata": {
  "kernelspec": {
   "display_name": "Python 3",
   "language": "python",
   "name": "python3"
  },
  "language_info": {
   "codemirror_mode": {
    "name": "ipython",
    "version": 3
   },
   "file_extension": ".py",
   "mimetype": "text/x-python",
   "name": "python",
   "nbconvert_exporter": "python",
   "pygments_lexer": "ipython3",
   "version": "3.7.3"
  }
 },
 "nbformat": 4,
 "nbformat_minor": 2
}
