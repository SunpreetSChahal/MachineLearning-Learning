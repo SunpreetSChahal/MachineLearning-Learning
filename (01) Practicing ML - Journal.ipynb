{
 "cells": [
  {
   "cell_type": "markdown",
   "metadata": {},
   "source": [
    "# Introduction\n",
    "\n",
    "The aim of this notebook is to centralise all of my ML learning.\n",
    "\n",
    "I will use this notebook as reference for my future projects.\n",
    "\n",
    "As my development will be on-going, so will this notebook - by proxy.\n",
    "\n",
    "## Contents\n",
    "\n",
    "1. __Linear Regression__ - Supervised\n",
    "    1. Single Variable\n",
    "    2. Multi Variable\n",
    "2. __Saving a Model__\n",
    "3. __Gradient Descent__\n",
    "4. __Training & Testing a Model - Train/Test Split__\n",
    "5. __Logistic Regression__ - Supervised\n",
    "    1. Binary\n",
    "    2. Multiclass\n",
    "6. __Confusion Matrix__\n",
    "7. __Decision Tree__ - Supervised\n",
    "9. __Random Forest__ - Supervised\n",
    "9. __Support Vector Machine__ - Supervised\n",
    "10. __K Fold Cross Validation__\n",
    "11. __K Means Clustering__ - Unsupervised\n",
    "\n",
    "#### ** I want to have an interactive table of contents for easy future reference ** - but can't implement it. \n"
   ]
  },
  {
   "cell_type": "markdown",
   "metadata": {},
   "source": [
    "The required libraries for each topic can be found on the beginning of each topic's section. "
   ]
  },
  {
   "cell_type": "code",
   "execution_count": 1,
   "metadata": {},
   "outputs": [],
   "source": [
    "## General libraries\n",
    "\n",
    "# Ignore Warnings\n",
    "import warnings\n",
    "warnings.simplefilter(action='ignore', category=FutureWarning)\n",
    "\n",
    "# Basic Libraries for: Cleaning & Manipulation\n",
    "import math\n",
    "import numpy as np\n",
    "import pandas as pd\n",
    "\n",
    "# Data Viz\n",
    "import matplotlib.pyplot as plt\n",
    "import seaborn as sn\n",
    "from word2number import w2n\n",
    "\n",
    "# SciKit Libraries - General ML\n",
    "from sklearn import metrics"
   ]
  },
  {
   "cell_type": "markdown",
   "metadata": {},
   "source": [
    "# ----------------------------------------------------------------------------------------------------------------"
   ]
  },
  {
   "cell_type": "markdown",
   "metadata": {},
   "source": [
    "## 1. Linear Regression\n",
    "\n",
    "###### What is linear regression?\n",
    "\n",
    "The modelling of a relationship between a response variable and one or more explanatory valuable. \n",
    "\n",
    "*Using the explanatory variable(s) to predict a respone variable*\n",
    "\n",
    "*e.g. I have 9 years of experience (explanatory 1), and I scored a 10 in the interview (explanatory 2) - what is the amount of money that I'll earn? (response)*\n",
    "\n",
    "###### Formula:\n",
    "y = mx + b\n",
    "\n",
    "- m : Coefficient \n",
    "- b : Y-intercept\n",
    "\n",
    "__Relevant Documentation__:\n",
    "https://scikit-learn.org/stable/modules/generated/sklearn.linear_model.LinearRegression.html"
   ]
  },
  {
   "cell_type": "markdown",
   "metadata": {},
   "source": [
    "### 1.1 Linear Regression: Single Variable\n",
    "\n",
    "This example will look at data (unofficial) from 1970 and the mean per capita income (USD).\n",
    "\n",
    "Our model will take in a year and predict a mean income for that given year."
   ]
  },
  {
   "cell_type": "code",
   "execution_count": 2,
   "metadata": {},
   "outputs": [],
   "source": [
    "# Required libraries for Linear Regression\n",
    "import statsmodels.api as sm # OLS\n",
    "from sklearn.linear_model import LinearRegression"
   ]
  },
  {
   "cell_type": "code",
   "execution_count": 3,
   "metadata": {},
   "outputs": [
    {
     "data": {
      "text/html": [
       "<div>\n",
       "<style scoped>\n",
       "    .dataframe tbody tr th:only-of-type {\n",
       "        vertical-align: middle;\n",
       "    }\n",
       "\n",
       "    .dataframe tbody tr th {\n",
       "        vertical-align: top;\n",
       "    }\n",
       "\n",
       "    .dataframe thead th {\n",
       "        text-align: right;\n",
       "    }\n",
       "</style>\n",
       "<table border=\"1\" class=\"dataframe\">\n",
       "  <thead>\n",
       "    <tr style=\"text-align: right;\">\n",
       "      <th></th>\n",
       "      <th>year</th>\n",
       "      <th>per capita income (US$)</th>\n",
       "    </tr>\n",
       "  </thead>\n",
       "  <tbody>\n",
       "    <tr>\n",
       "      <th>0</th>\n",
       "      <td>1970</td>\n",
       "      <td>3399.299037</td>\n",
       "    </tr>\n",
       "    <tr>\n",
       "      <th>1</th>\n",
       "      <td>1971</td>\n",
       "      <td>3768.297935</td>\n",
       "    </tr>\n",
       "    <tr>\n",
       "      <th>2</th>\n",
       "      <td>1972</td>\n",
       "      <td>4251.175484</td>\n",
       "    </tr>\n",
       "    <tr>\n",
       "      <th>3</th>\n",
       "      <td>1973</td>\n",
       "      <td>4804.463248</td>\n",
       "    </tr>\n",
       "    <tr>\n",
       "      <th>4</th>\n",
       "      <td>1974</td>\n",
       "      <td>5576.514583</td>\n",
       "    </tr>\n",
       "  </tbody>\n",
       "</table>\n",
       "</div>"
      ],
      "text/plain": [
       "   year  per capita income (US$)\n",
       "0  1970              3399.299037\n",
       "1  1971              3768.297935\n",
       "2  1972              4251.175484\n",
       "3  1973              4804.463248\n",
       "4  1974              5576.514583"
      ]
     },
     "execution_count": 3,
     "metadata": {},
     "output_type": "execute_result"
    }
   ],
   "source": [
    "# This is the dataset that we'll use for the single vairable linear regression\n",
    "df = pd.read_csv(\"https://raw.githubusercontent.com/codebasics/py/master/ML/1_linear_reg/Exercise/canada_per_capita_income.csv\")\n",
    "df.head()"
   ]
  },
  {
   "cell_type": "markdown",
   "metadata": {},
   "source": [
    "##### Manipulation - Year & Income Per Capita"
   ]
  },
  {
   "cell_type": "code",
   "execution_count": 4,
   "metadata": {},
   "outputs": [
    {
     "data": {
      "text/plain": [
       "Index(['year', 'per_capita_income'], dtype='object')"
      ]
     },
     "execution_count": 4,
     "metadata": {},
     "output_type": "execute_result"
    }
   ],
   "source": [
    "# Renaming the column names to be more accessible\n",
    "df = df.rename(columns={\"per capita income (US$)\" : \"per_capita_income\"})\n",
    "df.columns"
   ]
  },
  {
   "cell_type": "markdown",
   "metadata": {},
   "source": [
    "#### OLS Linear Regression"
   ]
  },
  {
   "cell_type": "code",
   "execution_count": 5,
   "metadata": {},
   "outputs": [
    {
     "name": "stdout",
     "output_type": "stream",
     "text": [
      "                            OLS Regression Results                            \n",
      "==============================================================================\n",
      "Dep. Variable:      per_capita_income   R-squared:                       0.891\n",
      "Model:                            OLS   Adj. R-squared:                  0.888\n",
      "Method:                 Least Squares   F-statistic:                     367.5\n",
      "Date:                Sun, 27 Feb 2022   Prob (F-statistic):           2.80e-23\n",
      "Time:                        22:12:34   Log-Likelihood:                -455.71\n",
      "No. Observations:                  47   AIC:                             915.4\n",
      "Df Residuals:                      45   BIC:                             919.1\n",
      "Df Model:                           1                                         \n",
      "Covariance Type:            nonrobust                                         \n",
      "==============================================================================\n",
      "                 coef    std err          t      P>|t|      [0.025      0.975]\n",
      "------------------------------------------------------------------------------\n",
      "const      -1.632e+06   8.61e+04    -18.951      0.000   -1.81e+06   -1.46e+06\n",
      "year         828.4651     43.214     19.171      0.000     741.427     915.503\n",
      "==============================================================================\n",
      "Omnibus:                        0.511   Durbin-Watson:                   0.230\n",
      "Prob(Omnibus):                  0.775   Jarque-Bera (JB):                0.647\n",
      "Skew:                           0.130   Prob(JB):                        0.724\n",
      "Kurtosis:                       2.487   Cond. No.                     2.93e+05\n",
      "==============================================================================\n",
      "\n",
      "Notes:\n",
      "[1] Standard Errors assume that the covariance matrix of the errors is correctly specified.\n",
      "[2] The condition number is large, 2.93e+05. This might indicate that there are\n",
      "strong multicollinearity or other numerical problems.\n"
     ]
    }
   ],
   "source": [
    "#Respons variable\n",
    "y = df['per_capita_income']\n",
    "\n",
    "#Explanatory variable\n",
    "x = df['year']\n",
    "\n",
    "x = sm.add_constant(x)\n",
    "\n",
    "# Fit model\n",
    "model = sm.OLS(y, x)\n",
    "model = model.fit()\n",
    "\n",
    "print(model.summary())"
   ]
  },
  {
   "cell_type": "code",
   "execution_count": 6,
   "metadata": {
    "scrolled": false
   },
   "outputs": [
    {
     "data": {
      "image/png": "[encoded data removed]",
      "text/plain": [
       "<Figure size 864x576 with 4 Axes>"
      ]
     },
     "metadata": {
      "needs_background": "light"
     },
     "output_type": "display_data"
    }
   ],
   "source": [
    "# Define figure size\n",
    "fig = plt.figure(figsize=(12,8))\n",
    "\n",
    "# Droduce residual plots\n",
    "fig = sm.graphics.plot_regress_exog(model, 'year', fig=fig)"
   ]
  },
  {
   "cell_type": "code",
   "execution_count": 7,
   "metadata": {
    "scrolled": true
   },
   "outputs": [
    {
     "name": "stderr",
     "output_type": "stream",
     "text": [
      "C:\\Anaconda3\\lib\\site-packages\\statsmodels\\graphics\\gofplots.py:993: UserWarning: marker is redundantly defined by the 'marker' keyword argument and the fmt string \"bo\" (-> marker='o'). The keyword argument will take precedence.\n",
      "  ax.plot(x, y, fmt, **plot_style)\n"
     ]
    },
    {
     "data": {
      "image/png": "[encoded data removed]",
      "text/plain": [
       "<Figure size 432x288 with 1 Axes>"
      ]
     },
     "metadata": {
      "needs_background": "light"
     },
     "output_type": "display_data"
    }
   ],
   "source": [
    "#define residuals\n",
    "res = model.resid\n",
    "\n",
    "#create Q-Q plot\n",
    "fig = sm.qqplot(res, fit=True, line=\"45\")\n",
    "plt.show()"
   ]
  },
  {
   "cell_type": "markdown",
   "metadata": {},
   "source": [
    "#### Using Sci-Kit "
   ]
  },
  {
   "cell_type": "code",
   "execution_count": 8,
   "metadata": {},
   "outputs": [
    {
     "data": {
      "text/plain": [
       "LinearRegression()"
      ]
     },
     "execution_count": 8,
     "metadata": {},
     "output_type": "execute_result"
    }
   ],
   "source": [
    "# Using Sklearn\n",
    "reg = LinearRegression() # Just a variable to store the model - I change it later in the notebook \n",
    "reg.fit(df[['year']],df[['per_capita_income']])"
   ]
  },
  {
   "cell_type": "code",
   "execution_count": 9,
   "metadata": {
    "scrolled": false
   },
   "outputs": [
    {
     "data": {
      "text/plain": [
       "array([[52887.20514754]])"
      ]
     },
     "execution_count": 9,
     "metadata": {},
     "output_type": "execute_result"
    }
   ],
   "source": [
    "# Predict income for ny year\n",
    "# Can do print(reg.predict([[x]]))\n",
    "reg.predict([[2034]])"
   ]
  },
  {
   "cell_type": "code",
   "execution_count": 10,
   "metadata": {},
   "outputs": [
    {
     "data": {
      "text/plain": [
       "{'copy_X': True,\n",
       " 'fit_intercept': True,\n",
       " 'n_jobs': None,\n",
       " 'normalize': False,\n",
       " 'positive': False}"
      ]
     },
     "execution_count": 10,
     "metadata": {},
     "output_type": "execute_result"
    }
   ],
   "source": [
    "reg.get_params()"
   ]
  },
  {
   "cell_type": "markdown",
   "metadata": {},
   "source": [
    "### 1.2 Linear Regression: Multiple Variable \n",
    "\n",
    "This example looks at data containing: Experience (years), test score (/10), interview score (/10) and salary ($) \n",
    "\n",
    "Our model will take in an experience year, test score and interview score to predict a salary."
   ]
  },
  {
   "cell_type": "code",
   "execution_count": 11,
   "metadata": {},
   "outputs": [
    {
     "data": {
      "text/html": [
       "<div>\n",
       "<style scoped>\n",
       "    .dataframe tbody tr th:only-of-type {\n",
       "        vertical-align: middle;\n",
       "    }\n",
       "\n",
       "    .dataframe tbody tr th {\n",
       "        vertical-align: top;\n",
       "    }\n",
       "\n",
       "    .dataframe thead th {\n",
       "        text-align: right;\n",
       "    }\n",
       "</style>\n",
       "<table border=\"1\" class=\"dataframe\">\n",
       "  <thead>\n",
       "    <tr style=\"text-align: right;\">\n",
       "      <th></th>\n",
       "      <th>experience</th>\n",
       "      <th>test_score(out of 10)</th>\n",
       "      <th>interview_score(out of 10)</th>\n",
       "      <th>salary($)</th>\n",
       "    </tr>\n",
       "  </thead>\n",
       "  <tbody>\n",
       "    <tr>\n",
       "      <th>0</th>\n",
       "      <td>NaN</td>\n",
       "      <td>8.0</td>\n",
       "      <td>9</td>\n",
       "      <td>50000</td>\n",
       "    </tr>\n",
       "    <tr>\n",
       "      <th>1</th>\n",
       "      <td>NaN</td>\n",
       "      <td>8.0</td>\n",
       "      <td>6</td>\n",
       "      <td>45000</td>\n",
       "    </tr>\n",
       "    <tr>\n",
       "      <th>2</th>\n",
       "      <td>five</td>\n",
       "      <td>6.0</td>\n",
       "      <td>7</td>\n",
       "      <td>60000</td>\n",
       "    </tr>\n",
       "    <tr>\n",
       "      <th>3</th>\n",
       "      <td>two</td>\n",
       "      <td>10.0</td>\n",
       "      <td>10</td>\n",
       "      <td>65000</td>\n",
       "    </tr>\n",
       "    <tr>\n",
       "      <th>4</th>\n",
       "      <td>seven</td>\n",
       "      <td>9.0</td>\n",
       "      <td>6</td>\n",
       "      <td>70000</td>\n",
       "    </tr>\n",
       "    <tr>\n",
       "      <th>5</th>\n",
       "      <td>three</td>\n",
       "      <td>7.0</td>\n",
       "      <td>10</td>\n",
       "      <td>62000</td>\n",
       "    </tr>\n",
       "    <tr>\n",
       "      <th>6</th>\n",
       "      <td>ten</td>\n",
       "      <td>NaN</td>\n",
       "      <td>7</td>\n",
       "      <td>72000</td>\n",
       "    </tr>\n",
       "    <tr>\n",
       "      <th>7</th>\n",
       "      <td>eleven</td>\n",
       "      <td>7.0</td>\n",
       "      <td>8</td>\n",
       "      <td>80000</td>\n",
       "    </tr>\n",
       "  </tbody>\n",
       "</table>\n",
       "</div>"
      ],
      "text/plain": [
       "  experience  test_score(out of 10)  interview_score(out of 10)  salary($)\n",
       "0        NaN                    8.0                           9      50000\n",
       "1        NaN                    8.0                           6      45000\n",
       "2       five                    6.0                           7      60000\n",
       "3        two                   10.0                          10      65000\n",
       "4      seven                    9.0                           6      70000\n",
       "5      three                    7.0                          10      62000\n",
       "6        ten                    NaN                           7      72000\n",
       "7     eleven                    7.0                           8      80000"
      ]
     },
     "execution_count": 11,
     "metadata": {},
     "output_type": "execute_result"
    }
   ],
   "source": [
    "# This is the dataset that we'll use for the multi vairable linear regression\n",
    "df2 = pd.read_csv(\"https://raw.githubusercontent.com/codebasics/py/master/ML/2_linear_reg_multivariate/Exercise/hiring.csv\")\n",
    "df2"
   ]
  },
  {
   "cell_type": "markdown",
   "metadata": {},
   "source": [
    "##### Manipulation - Experience, Test Score, Interview Score & Salary"
   ]
  },
  {
   "cell_type": "code",
   "execution_count": 12,
   "metadata": {},
   "outputs": [],
   "source": [
    "# Filling in the null values - to use the values in the LR, we need to convert the words to numbers\n",
    "df2.experience = df2.experience.fillna(\"zero\")\n",
    "df2.experience = df2.experience.apply(w2n.word_to_num)"
   ]
  },
  {
   "cell_type": "code",
   "execution_count": 13,
   "metadata": {},
   "outputs": [
    {
     "data": {
      "text/html": [
       "<div>\n",
       "<style scoped>\n",
       "    .dataframe tbody tr th:only-of-type {\n",
       "        vertical-align: middle;\n",
       "    }\n",
       "\n",
       "    .dataframe tbody tr th {\n",
       "        vertical-align: top;\n",
       "    }\n",
       "\n",
       "    .dataframe thead th {\n",
       "        text-align: right;\n",
       "    }\n",
       "</style>\n",
       "<table border=\"1\" class=\"dataframe\">\n",
       "  <thead>\n",
       "    <tr style=\"text-align: right;\">\n",
       "      <th></th>\n",
       "      <th>experience</th>\n",
       "      <th>test_score(out of 10)</th>\n",
       "      <th>interview_score(out of 10)</th>\n",
       "      <th>salary($)</th>\n",
       "    </tr>\n",
       "  </thead>\n",
       "  <tbody>\n",
       "    <tr>\n",
       "      <th>0</th>\n",
       "      <td>0</td>\n",
       "      <td>8.0</td>\n",
       "      <td>9</td>\n",
       "      <td>50000</td>\n",
       "    </tr>\n",
       "    <tr>\n",
       "      <th>1</th>\n",
       "      <td>0</td>\n",
       "      <td>8.0</td>\n",
       "      <td>6</td>\n",
       "      <td>45000</td>\n",
       "    </tr>\n",
       "    <tr>\n",
       "      <th>2</th>\n",
       "      <td>5</td>\n",
       "      <td>6.0</td>\n",
       "      <td>7</td>\n",
       "      <td>60000</td>\n",
       "    </tr>\n",
       "    <tr>\n",
       "      <th>3</th>\n",
       "      <td>2</td>\n",
       "      <td>10.0</td>\n",
       "      <td>10</td>\n",
       "      <td>65000</td>\n",
       "    </tr>\n",
       "    <tr>\n",
       "      <th>4</th>\n",
       "      <td>7</td>\n",
       "      <td>9.0</td>\n",
       "      <td>6</td>\n",
       "      <td>70000</td>\n",
       "    </tr>\n",
       "    <tr>\n",
       "      <th>5</th>\n",
       "      <td>3</td>\n",
       "      <td>7.0</td>\n",
       "      <td>10</td>\n",
       "      <td>62000</td>\n",
       "    </tr>\n",
       "    <tr>\n",
       "      <th>6</th>\n",
       "      <td>10</td>\n",
       "      <td>7.0</td>\n",
       "      <td>7</td>\n",
       "      <td>72000</td>\n",
       "    </tr>\n",
       "    <tr>\n",
       "      <th>7</th>\n",
       "      <td>11</td>\n",
       "      <td>7.0</td>\n",
       "      <td>8</td>\n",
       "      <td>80000</td>\n",
       "    </tr>\n",
       "  </tbody>\n",
       "</table>\n",
       "</div>"
      ],
      "text/plain": [
       "   experience  test_score(out of 10)  interview_score(out of 10)  salary($)\n",
       "0           0                    8.0                           9      50000\n",
       "1           0                    8.0                           6      45000\n",
       "2           5                    6.0                           7      60000\n",
       "3           2                   10.0                          10      65000\n",
       "4           7                    9.0                           6      70000\n",
       "5           3                    7.0                          10      62000\n",
       "6          10                    7.0                           7      72000\n",
       "7          11                    7.0                           8      80000"
      ]
     },
     "execution_count": 13,
     "metadata": {},
     "output_type": "execute_result"
    }
   ],
   "source": [
    "# Since the \"Test Score (Out of 10)\" are floats, we need to find the mean to find the interger mean.\n",
    "mean_test_score = math.floor(df2['test_score(out of 10)'].mean())\n",
    "df2['test_score(out of 10)'] = df2['test_score(out of 10)'].fillna(mean_test_score)\n",
    "df2"
   ]
  },
  {
   "cell_type": "code",
   "execution_count": 14,
   "metadata": {},
   "outputs": [
    {
     "data": {
      "text/plain": [
       "<matplotlib.legend.Legend at 0x2733bf0c820>"
      ]
     },
     "execution_count": 14,
     "metadata": {},
     "output_type": "execute_result"
    },
    {
     "data": {
      "image/png": "[encoded data removed]",
      "text/plain": [
       "<Figure size 1440x1080 with 3 Axes>"
      ]
     },
     "metadata": {
      "needs_background": "light"
     },
     "output_type": "display_data"
    }
   ],
   "source": [
    "# Let's see what our data looks like\n",
    "%matplotlib inline\n",
    "\n",
    "# Set graph size\n",
    "plt.figure(figsize=(20,15))\n",
    "\n",
    "#Plotting data - Experience \n",
    "plt.subplot(331)\n",
    "\n",
    "plt.scatter(df2['experience'], df2['salary($)'], color='red', marker = '+', label = 'Experience') # , s = x : set marker size\n",
    "plt.xlabel('Experience (Years)')\n",
    "plt.ylabel('Salary ($)')\n",
    "plt.minorticks_on()\n",
    "plt.legend()\n",
    "\n",
    "# Plotting data - Test Score\n",
    "plt.subplot(332)\n",
    "\n",
    "plt.scatter(df2['test_score(out of 10)'], df2['salary($)'], color='green', marker = '+', label = 'Test Score')\n",
    "plt.xlabel('Test Score (/10)')\n",
    "plt.ylabel('Salary ($)')\n",
    "plt.minorticks_on()\n",
    "plt.legend()\n",
    "\n",
    "# Plotting data - Interview Score\n",
    "plt.subplot(333)\n",
    "\n",
    "plt.scatter(df2['interview_score(out of 10)'], df2['salary($)'], color='blue', marker = '+', label = 'Interview Score')\n",
    "plt.xlabel('Interview Score (/10)')\n",
    "plt.ylabel('Salary ($)')\n",
    "plt.minorticks_on()\n",
    "plt.legend()"
   ]
  },
  {
   "cell_type": "markdown",
   "metadata": {},
   "source": [
    "##### Multi Variable Linear Regression"
   ]
  },
  {
   "cell_type": "code",
   "execution_count": 15,
   "metadata": {},
   "outputs": [
    {
     "data": {
      "text/plain": [
       "LinearRegression()"
      ]
     },
     "execution_count": 15,
     "metadata": {},
     "output_type": "execute_result"
    }
   ],
   "source": [
    "# Creating the model\n",
    "reg2 = LinearRegression()\n",
    "\n",
    "# Use this format for multiple variables - reg.fit(df[['col1', 'col2', 'col3']], df['response variable'])\n",
    "# Since the response variable column in this example will have invalid syntax - we need to put it in it's own s.brackets.\n",
    "## \"($)\" - flags an error\n",
    "reg2.fit(df2[['experience', 'test_score(out of 10)', 'interview_score(out of 10)']],df2['salary($)'])"
   ]
  },
  {
   "cell_type": "code",
   "execution_count": 16,
   "metadata": {},
   "outputs": [
    {
     "data": {
      "text/plain": [
       "array([60857.27438577])"
      ]
     },
     "execution_count": 16,
     "metadata": {},
     "output_type": "execute_result"
    }
   ],
   "source": [
    "# Use - modelname.predict([[1,2,3]]) - to use the model to predict\n",
    "    # The explanatory values should be in the order of how the model was fitted\n",
    "reg2.predict([[3, 8, 9]])"
   ]
  },
  {
   "cell_type": "code",
   "execution_count": 17,
   "metadata": {},
   "outputs": [
    {
     "data": {
      "text/plain": [
       "array([61558.23430121, 57234.04545532, 69624.08143084])"
      ]
     },
     "execution_count": 17,
     "metadata": {},
     "output_type": "execute_result"
    }
   ],
   "source": [
    "# Multi variable prediction\n",
    "    # modelname.predict([[x,x..], [x,x...]]) \n",
    "        # As long as the brackets open like ([[]]), then you can include as many variables as you want\n",
    "        \n",
    "reg2.predict([[4,7,9], [1,9,9], [6, 8, 9]])"
   ]
  },
  {
   "cell_type": "markdown",
   "metadata": {},
   "source": [
    "# ----------------------------------------------------------------------------------------------------------------"
   ]
  },
  {
   "cell_type": "markdown",
   "metadata": {},
   "source": [
    "## 2. Saving A Model\n",
    "\n",
    "Here we'll look at how we go about saving a model.\n",
    "\n",
    "It makes sure our model is safely stored, and so that we can easily share our model."
   ]
  },
  {
   "cell_type": "code",
   "execution_count": 18,
   "metadata": {},
   "outputs": [],
   "source": [
    "# Required library for saving a model\n",
    "import joblib"
   ]
  },
  {
   "cell_type": "code",
   "execution_count": 19,
   "metadata": {},
   "outputs": [
    {
     "data": {
      "text/plain": [
       "['(01) practice_model_regression_multi']"
      ]
     },
     "execution_count": 19,
     "metadata": {},
     "output_type": "execute_result"
    }
   ],
   "source": [
    "# joblib.dump(model_variable_name, \"model_save_name\")\n",
    "joblib.dump(reg2, '(01) practice_model_regression_multi')"
   ]
  },
  {
   "cell_type": "code",
   "execution_count": 20,
   "metadata": {},
   "outputs": [],
   "source": [
    "# new_model_variable = joblib.load(\"model_save_name\")\n",
    "prac = joblib.load('(01) practice_model_regression_multi')"
   ]
  },
  {
   "cell_type": "code",
   "execution_count": 21,
   "metadata": {},
   "outputs": [
    {
     "data": {
      "text/plain": [
       "array([55086.56288895])"
      ]
     },
     "execution_count": 21,
     "metadata": {},
     "output_type": "execute_result"
    }
   ],
   "source": [
    "prac.predict([[1,9,8]])"
   ]
  },
  {
   "cell_type": "markdown",
   "metadata": {},
   "source": [
    "# ----------------------------------------------------------------------------------------------------------------"
   ]
  },
  {
   "cell_type": "markdown",
   "metadata": {},
   "source": [
    "## 3. Gradient Descent & Cost Function\n",
    "\n",
    "We can use this method to find the best coefficient (m) and y-intercept (b); this will allow us to get the best score for our model - with the lowest cost function.\n",
    "\n",
    "We can substitute these values in the formula:\n",
    "    \n",
    "    - y = (m * x) + b"
   ]
  },
  {
   "cell_type": "markdown",
   "metadata": {},
   "source": [
    "Formulas:\n",
    "\n",
    "- **mse or cf = (1/n) * sum([val ** 2 for val in (y - y_predicted])])** - Mean Squared Error / Cost Function\n",
    "- **mse or cf = (1/n) * sum((y - y_predicted)**2)** - Mean Sqaured Error / Cost Function\n",
    "\n",
    "\n",
    "- **partial derivative of *m* = -(2/n) * sum(x*(y - y_predicted))** - Partial Derivative (m) \n",
    "- **partial derivative of *b* = -(2/n) * sum(y - y_predicted)** - Partial Derivative (b)\n",
    "\n",
    "\n",
    "- **m = m - learning_rate * m_pderivative** - Position of m (y = **m** * x + b), learning_rate and m_pderivative are variables - make sure to name them \n",
    "- **b = b - learning_rate * b_pderivative** - Position of b (y = m * x + **b**), learning_rate and m_pderivative are variables - make sure to name them "
   ]
  },
  {
   "cell_type": "markdown",
   "metadata": {},
   "source": [
    "##### Script for GD & CF - Order Is Important\n",
    "\n",
    "This GD uses the first dataset, from the single variable linear regression"
   ]
  },
  {
   "cell_type": "code",
   "execution_count": 22,
   "metadata": {
    "scrolled": true
   },
   "outputs": [
    {
     "name": "stdout",
     "output_type": "stream",
     "text": [
      "m 75720.54148241132, b 75720.54148241132, cost 499723531.6384421, interations 0\n",
      "m -601709648.3039906, b -601709648.3039906, cost 2.279232062602457e+16, interations 1\n",
      "m 4782058623553.389, b 4782058623553.389, cost 1.4396083930024966e+24, interations 2\n",
      "m -3.800518137180091e+16, b -3.800518137180091e+16, cost 9.092853566237402e+31, interations 3\n",
      "m 3.02044354703682e+20, b 3.02044354703682e+20, cost 5.743227559585894e+39, interations 4\n",
      "m -2.400483010878487e+24, b -2.400483010878487e+24, cost 3.6275370059473965e+47, interations 5\n",
      "m 1.9077723505772253e+28, b 1.9077723505772253e+28, cost 2.2912246803723414e+55, interations 6\n",
      "m -1.516192918313967e+32, b -1.516192918313967e+32, cost 1.4471831789283914e+63, interations 7\n",
      "m 1.2049870441040175e+36, b 1.2049870441040175e+36, cost 9.140697424021027e+70, interations 8\n",
      "m -9.576576693638563e+39, b -9.576576693638563e+39, cost 5.7734466938299645e+78, interations 9\n",
      "m 7.610938359701117e+43, b 7.610938359701117e+43, cost 3.6466240134916314e+86, interations 10\n",
      "m -6.048756728868338e+47, b -6.048756728868338e+47, cost 2.303280414797129e+94, interations 11\n",
      "m 4.807220376235814e+51, b 4.807220376235814e+51, cost 1.4547978210971157e+102, interations 12\n",
      "m -3.820515319355607e+55, b -3.820515319355607e+55, cost 9.188793021779453e+109, interations 13\n",
      "m 3.036336211584336e+59, b 3.036336211584336e+59, cost 5.803824832060036e+117, interations 14\n",
      "m -2.4131136297428363e+63, b -2.4131136297428363e+63, cost 3.665811451122832e+125, interations 15\n",
      "m 1.9178104742926962e+67, b 1.9178104742926962e+67, cost 2.315399582866718e+133, interations 16\n",
      "m -1.5241706689538441e+71, b -1.5241706689538441e+71, cost 1.4624525292203104e+141, interations 17\n",
      "m 1.211327323131857e+75, b 1.211327323131857e+75, cost 9.237141684092638e+148, interations 18\n",
      "m -9.62696575687892e+78, b -9.62696575687892e+78, cost 5.834362810907211e+156, interations 19\n",
      "m 7.650984825843891e+82, b 7.650984825843891e+82, cost 3.68509984727389e+164, interations 20\n",
      "m -6.080583465612268e+86, b -6.080583465612268e+86, cost 2.3275825183498407e+172, interations 21\n",
      "m 4.832514522494713e+90, b 4.832514522494713e+90, cost 1.4701475141129667e+180, interations 22\n",
      "m -3.8406177206829645e+94, b -3.8406177206829645e+94, cost 9.285744742510046e+187, interations 23\n",
      "m 3.0523124985477266e+98, b 3.0523124985477266e+98, cost 5.865061471404667e+195, interations 24\n",
      "m -2.425810707120812e+102, b -2.425810707120812e+102, cost 3.704489733158123e+203, interations 25\n",
      "m 1.9279014155928707e+106, b 1.9279014155928707e+106, cost 2.339829556771422e+211, interations 26\n",
      "m -1.532190396115639e+110, b -1.532190396115639e+110, cost 1.477882987699311e+219, interations 27\n",
      "m 1.2177009627990029e+114, b 1.2177009627990029e+114, cost 9.334603535587409e+226, interations 28\n",
      "m -9.67761995219886e+117, b -9.67761995219886e+117, cost 5.895921659010891e+234, interations 29\n",
      "m 7.691242004434275e+121, b 7.691242004434275e+121, cost 3.7239816427839576e+242, interations 30\n",
      "m -6.112577665062519e+125, b -6.112577665062519e+125, cost 2.3521410354218362e+250, interations 31\n",
      "m 4.8579417589356453e+129, b 4.8579417589356453e+129, cost 1.4856591630186704e+258, interations 32\n",
      "m -3.8608258947936625e+133, b -3.8608258947936625e+133, cost 9.383719408923524e+265, interations 33\n",
      "m 3.068372847922969e+137, b 3.068372847922969e+137, cost 5.926944223632912e+273, interations 34\n",
      "m -2.4385745926971102e+141, b -2.4385745926971102e+141, cost 3.74357611296962e+281, interations 35\n",
      "m 1.9380454523879828e+145, b 1.9380454523879828e+145, cost 2.3645172933661677e+289, interations 36\n",
      "m -1.5402523206671774e+149, b -1.5402523206671774e+149, cost 1.493476254231305e+297, interations 37\n",
      "m 1.2241081386390998e+153, b 1.2241081386390998e+153, cost 9.433093715197295e+304, interations 38\n",
      "m -9.72854067464359e+156, b -9.72854067464359e+156, cost inf, interations 39\n",
      "m 7.731711004177752e+160, b 7.731711004177752e+160, cost inf, interations 40\n",
      "m -6.144740208357447e+164, b -6.144740208357447e+164, cost inf, interations 41\n",
      "m 4.883502785839081e+168, b 4.883502785839081e+168, cost inf, interations 42\n",
      "m -3.881140398232237e+172, b -3.881140398232237e+172, cost inf, interations 43\n",
      "m 3.084517702021159e+176, b 3.084517702021159e+176, cost inf, interations 44\n",
      "m -2.4514056379963466e+180, b -2.4514056379963466e+180, cost inf, interations 45\n",
      "m 1.948242864050534e+184, b 1.948242864050534e+184, cost inf, interations 46\n",
      "m -1.5483566646384148e+188, b -1.5483566646384148e+188, cost inf, interations 47\n",
      "m 1.2305490271093898e+192, b 1.2305490271093898e+192, cost inf, interations 48\n",
      "m -9.779729326598572e+195, b -9.779729326598572e+195, cost inf, interations 49\n"
     ]
    },
    {
     "name": "stderr",
     "output_type": "stream",
     "text": [
      "C:\\Users\\ssc44611\\AppData\\Local\\Temp/ipykernel_22336/281352699.py:10: RuntimeWarning: overflow encountered in double_scalars\n",
      "  cost = (1/n) * sum([val ** 2 for val in (y - y_predicted)]) # Finds cost - if you're reducing the cost the GD is working\n"
     ]
    }
   ],
   "source": [
    "def gradient_descent(x,y): # Create a function to make gradient descent with x&y \n",
    "    m_gd = b_gd = 0 # future reference for; m*x = b // gd = gradient descent \n",
    "    iterations = 50 # This is a variable and can be changed - Random value to find global minima - how many steps are taken\n",
    "    n = len(x) # This will be used for finding the derivative\n",
    "    learning_rate = 0.001 #This is a variable for the learning rate - steps taken in the gradient descent\n",
    "    \n",
    "    for i in range(iterations): # For loop for how many steps are taken and takes into account the following:\n",
    "                                # Cost - if it's reducing, \n",
    "        y_predicted = m_gd * x + b_gd # y = m*x +b\n",
    "        cost = (1/n) * sum([val ** 2 for val in (y - y_predicted)]) # Finds cost - if you're reducing the cost the GD is working\n",
    "        m_d = -(2/n) * sum(x*(y - y_predicted)) # Caculating patrial derivative of m - Partial derivative because for GD the \"steps\" are smaller\n",
    "        b_d = -(2/n) * sum(y-y_predicted) # Calculating partial derivative of b - Partial derivative because for GD the \"steps\" are smaller\n",
    "        m_gd = m_gd - learning_rate * m_d \n",
    "        b_gd = b_gd - learning_rate * m_d\n",
    "        print(\"m {}, b {}, cost {}, interations {}\".format(m_gd,b_gd, cost, i)) # Print each value increment at each iteration,\n",
    "                                                                         # Format it route to from the interations and m/b values\n",
    "                                                                         # \"i\" is important as it counts each increment of the iterations - otherwise you'd get a constant xx... number\n",
    "\n",
    "# Assign X and Y values - array makes it easier to multiply in the future.\n",
    "x = np.array(df['year'])\n",
    "y = np.array(df['per_capita_income'])\n",
    "\n",
    "gradient_descent(x,y)"
   ]
  },
  {
   "cell_type": "markdown",
   "metadata": {},
   "source": [
    "# ----------------------------------------------------------------------------------------------------------------"
   ]
  },
  {
   "cell_type": "markdown",
   "metadata": {},
   "source": [
    "## 4. Training & Testing Model - Train/Test Split\n",
    "\n",
    "This allows us to, as is stated in the topic name; train our model and then test our model.\n",
    "\n",
    "Using this method also allows us to get a better understanding of the relationship between our variables (model score) \n",
    "\n",
    "How? We are able to split our data into 4 groups:\n",
    "    - x_train = the explanatory set to predict the response variables\n",
    "    - y_train = the response set - the set that we aim to predict in the testing phase\n",
    "    \n",
    "    - x_test  = the explanatory set that we use to test our fitted, trained model. \n",
    "    - y_test  = the reponse set that we use to test our fitted, trained model. \n",
    "\n",
    "80% of the data is used for training the model, 20% of the data is used to test the model. \n",
    "\n",
    "__Relevant Documentation__: https://scikit-learn.org/stable/modules/generated/sklearn.model_selection.train_test_split.html\n",
    "\n",
    "------------------\n",
    "\n",
    "\n",
    "\n",
    "\n",
    "The dataset used for training/testing is the 2nd dataset, from the multi variable dataset."
   ]
  },
  {
   "cell_type": "code",
   "execution_count": 23,
   "metadata": {},
   "outputs": [],
   "source": [
    "# Required library for splitting data into training and testing. \n",
    "from sklearn.model_selection import train_test_split # Allows us to split our data into training and testing sets"
   ]
  },
  {
   "cell_type": "code",
   "execution_count": 24,
   "metadata": {},
   "outputs": [],
   "source": [
    "# Splitting the dataset \n",
    "x_df2 = df2[['experience', 'test_score(out of 10)', 'interview_score(out of 10)']]\n",
    "y_df2 = df2[['salary($)']]\n",
    "\n",
    "# If using a single column for \"x\" - do:\n",
    "    ## x = x.values.reshape(-1,1) # Reshapes the data to make it usable"
   ]
  },
  {
   "cell_type": "code",
   "execution_count": 25,
   "metadata": {},
   "outputs": [],
   "source": [
    "# Syntax to split data into train & test data\n",
    "x_train, x_test, y_train, y_test = train_test_split(x_df2,y_df2,test_size=0.3) #Can add ,random_state = 10) to keep samples the same"
   ]
  },
  {
   "cell_type": "code",
   "execution_count": 26,
   "metadata": {},
   "outputs": [],
   "source": [
    "# Doing LR with the split data\n",
    "## e_t_i = experience, test score, interview score \n",
    "e_t_i = LinearRegression() # This is just a classifier to fit the model later on (just a variable to store model)"
   ]
  },
  {
   "cell_type": "code",
   "execution_count": 27,
   "metadata": {},
   "outputs": [
    {
     "data": {
      "text/plain": [
       "LinearRegression()"
      ]
     },
     "execution_count": 27,
     "metadata": {},
     "output_type": "execute_result"
    }
   ],
   "source": [
    "# Fit the model with train data\n",
    "e_t_i.fit(x_train, y_train)"
   ]
  },
  {
   "cell_type": "code",
   "execution_count": 28,
   "metadata": {},
   "outputs": [
    {
     "data": {
      "text/plain": [
       "-3.429391663317344"
      ]
     },
     "execution_count": 28,
     "metadata": {},
     "output_type": "execute_result"
    }
   ],
   "source": [
    "# Check the score of the model - how accurate the model is\n",
    "e_t_i.score(x_test,y_test) "
   ]
  },
  {
   "cell_type": "code",
   "execution_count": 29,
   "metadata": {},
   "outputs": [
    {
     "data": {
      "text/plain": [
       "array([[54002.87264603],\n",
       "       [66585.06224066],\n",
       "       [57801.4682413 ]])"
      ]
     },
     "execution_count": 29,
     "metadata": {},
     "output_type": "execute_result"
    }
   ],
   "source": [
    "# Test our trained model using the test data \n",
    "e_t_i.predict(x_test)"
   ]
  },
  {
   "cell_type": "code",
   "execution_count": 30,
   "metadata": {},
   "outputs": [
    {
     "data": {
      "text/plain": [
       "array([[55556.97414619]])"
      ]
     },
     "execution_count": 30,
     "metadata": {},
     "output_type": "execute_result"
    }
   ],
   "source": [
    "# Since we know it's a high scoring model, we can input any variables we want\n",
    "e_t_i.predict([[1, 8, 10]])"
   ]
  },
  {
   "cell_type": "markdown",
   "metadata": {},
   "source": [
    "# ----------------------------------------------------------------------------------------------------------------"
   ]
  },
  {
   "cell_type": "markdown",
   "metadata": {},
   "source": [
    "## 5. Logistic Regression\n",
    "\n",
    "###### What is logistic regression?\n",
    "\n",
    "Logistic regression is a __classification model__ based on linear data.\n",
    "\n",
    "#### If you data can seperate your data into two parts, use a Logistic Regression model\n",
    "\n",
    "Binary - predicts a reponse variable based on one explanatory variable.\n",
    "    - e.g. if a person will buy a new smartphone based on age; If I'm x years old, am I likely to buy a new phone?\n",
    "    \n",
    "Multiclass - predicts a response variable based on multiple explanatory varibles. \n",
    "    - e.g. Fraud: When a purchase happens, purchase amount, type of purchase etc. If it breaks usual trends, is it likely to be fraud?\n",
    "\n",
    "##### Formula:\n",
    "Sigmoid(x) = 1 / 1 + e^(-x)   | e = Euler's number = ~2.71828\n",
    "        - Get your linear regression formula (m*x + b) and replace x in the Sigmoid formula\n",
    "            - Sigmoid = 1 / 1 + e^(mx+b)\n",
    "    \n",
    "__Relevant Documentation__: https://scikit-learn.org/stable/modules/generated/sklearn.linear_model.LogisticRegression.html"
   ]
  },
  {
   "cell_type": "markdown",
   "metadata": {},
   "source": [
    "### 5.1 Logistic Regression - Binary\n",
    "\n",
    "This example will look at a range of people of different ages and if they buy life insurance.\n",
    "\n",
    "Our model should take in a given age and print a chance of us buying life insurance."
   ]
  },
  {
   "cell_type": "code",
   "execution_count": 31,
   "metadata": {},
   "outputs": [],
   "source": [
    "# Import Logistic Regressions\n",
    "from sklearn.linear_model import LogisticRegression"
   ]
  },
  {
   "cell_type": "code",
   "execution_count": 32,
   "metadata": {},
   "outputs": [
    {
     "name": "stdout",
     "output_type": "stream",
     "text": [
      "The columns in this dataset are: ['age', 'bought_insurance']\n",
      "The shape of this dataset is: 27 rows and 2 columns.\n"
     ]
    }
   ],
   "source": [
    "# This is the dataset that we'll use for the single vairable logistic regression\n",
    "df3 = pd.read_csv('https://raw.githubusercontent.com/codebasics/py/master/ML/7_logistic_reg/insurance_data.csv')\n",
    "df3_cols = list(df3.columns)\n",
    "\n",
    "print(f\"The columns in this dataset are: {df3_cols}\")\n",
    "print(f\"The shape of this dataset is: {df3.shape[0]} rows and {df3.shape[1]} columns.\")"
   ]
  },
  {
   "cell_type": "code",
   "execution_count": 33,
   "metadata": {},
   "outputs": [
    {
     "data": {
      "text/html": [
       "<div>\n",
       "<style scoped>\n",
       "    .dataframe tbody tr th:only-of-type {\n",
       "        vertical-align: middle;\n",
       "    }\n",
       "\n",
       "    .dataframe tbody tr th {\n",
       "        vertical-align: top;\n",
       "    }\n",
       "\n",
       "    .dataframe thead th {\n",
       "        text-align: right;\n",
       "    }\n",
       "</style>\n",
       "<table border=\"1\" class=\"dataframe\">\n",
       "  <thead>\n",
       "    <tr style=\"text-align: right;\">\n",
       "      <th></th>\n",
       "      <th>age</th>\n",
       "      <th>bought_insurance</th>\n",
       "    </tr>\n",
       "  </thead>\n",
       "  <tbody>\n",
       "    <tr>\n",
       "      <th>0</th>\n",
       "      <td>22</td>\n",
       "      <td>0</td>\n",
       "    </tr>\n",
       "    <tr>\n",
       "      <th>1</th>\n",
       "      <td>25</td>\n",
       "      <td>0</td>\n",
       "    </tr>\n",
       "    <tr>\n",
       "      <th>2</th>\n",
       "      <td>47</td>\n",
       "      <td>1</td>\n",
       "    </tr>\n",
       "    <tr>\n",
       "      <th>3</th>\n",
       "      <td>52</td>\n",
       "      <td>0</td>\n",
       "    </tr>\n",
       "    <tr>\n",
       "      <th>4</th>\n",
       "      <td>46</td>\n",
       "      <td>1</td>\n",
       "    </tr>\n",
       "  </tbody>\n",
       "</table>\n",
       "</div>"
      ],
      "text/plain": [
       "   age  bought_insurance\n",
       "0   22                 0\n",
       "1   25                 0\n",
       "2   47                 1\n",
       "3   52                 0\n",
       "4   46                 1"
      ]
     },
     "execution_count": 33,
     "metadata": {},
     "output_type": "execute_result"
    }
   ],
   "source": [
    "df3.head()"
   ]
  },
  {
   "cell_type": "code",
   "execution_count": 34,
   "metadata": {},
   "outputs": [
    {
     "data": {
      "text/plain": [
       "<matplotlib.collections.PathCollection at 0x2733c54cb80>"
      ]
     },
     "execution_count": 34,
     "metadata": {},
     "output_type": "execute_result"
    },
    {
     "data": {
      "image/png": "[encoded data removed]",
      "text/plain": [
       "<Figure size 432x288 with 1 Axes>"
      ]
     },
     "metadata": {
      "needs_background": "light"
     },
     "output_type": "display_data"
    }
   ],
   "source": [
    "# Visualising how our data looks\n",
    "plt.scatter(df3['age'], df3['bought_insurance'], color='red')"
   ]
  },
  {
   "cell_type": "code",
   "execution_count": 35,
   "metadata": {},
   "outputs": [],
   "source": [
    "##Split Data\n",
    "bi_log_xtrain, bi_log_xtest, bi_log_ytrain, bi_log_ytest = train_test_split(df3[['age']], df3.bought_insurance, test_size = 0.2)\n",
    "log_xtrain = bi_log_xtrain.sort_values(by=\"age\")"
   ]
  },
  {
   "cell_type": "code",
   "execution_count": 36,
   "metadata": {},
   "outputs": [],
   "source": [
    "## Assign model to a variable\n",
    "bi_log_model = LogisticRegression() "
   ]
  },
  {
   "cell_type": "code",
   "execution_count": 37,
   "metadata": {},
   "outputs": [
    {
     "data": {
      "text/plain": [
       "LogisticRegression()"
      ]
     },
     "execution_count": 37,
     "metadata": {},
     "output_type": "execute_result"
    }
   ],
   "source": [
    "# Fitting Model\n",
    "bi_log_model.fit(bi_log_xtrain, bi_log_ytrain)"
   ]
  },
  {
   "cell_type": "code",
   "execution_count": 38,
   "metadata": {},
   "outputs": [
    {
     "data": {
      "text/plain": [
       "array([0, 1, 0, 0, 1, 1], dtype=int64)"
      ]
     },
     "execution_count": 38,
     "metadata": {},
     "output_type": "execute_result"
    }
   ],
   "source": [
    "bi_log_model.predict(bi_log_xtest) "
   ]
  },
  {
   "cell_type": "code",
   "execution_count": 39,
   "metadata": {},
   "outputs": [
    {
     "data": {
      "text/plain": [
       "0.8333333333333334"
      ]
     },
     "execution_count": 39,
     "metadata": {},
     "output_type": "execute_result"
    }
   ],
   "source": [
    "# Testing model accuracy\n",
    "bi_log_model.score(bi_log_xtest, bi_log_ytest)"
   ]
  },
  {
   "cell_type": "code",
   "execution_count": 40,
   "metadata": {},
   "outputs": [
    {
     "data": {
      "text/plain": [
       "array([[0.53196519, 0.46803481],\n",
       "       [0.33301941, 0.66698059],\n",
       "       [0.89338253, 0.10661747],\n",
       "       [0.82320279, 0.17679721],\n",
       "       [0.25978216, 0.74021784],\n",
       "       [0.14777207, 0.85222793]])"
      ]
     },
     "execution_count": 40,
     "metadata": {},
     "output_type": "execute_result"
    }
   ],
   "source": [
    "bi_log_model.predict_proba(bi_log_xtest)"
   ]
  },
  {
   "cell_type": "code",
   "execution_count": 41,
   "metadata": {},
   "outputs": [
    {
     "name": "stdout",
     "output_type": "stream",
     "text": [
      "[0]\n",
      "[1]\n"
     ]
    }
   ],
   "source": [
    "# Predicting probablity if someone gets insurance by age. 0 = Won't Get, 1 = Will Get\n",
    "# Remember to use; ([[x]]) - when predicting with random int. \n",
    "print(bi_log_model.predict([[16]]))\n",
    "print(bi_log_model.predict([[56]]))"
   ]
  },
  {
   "cell_type": "markdown",
   "metadata": {},
   "source": [
    "Our model is 100% accurate, above we can see that; \n",
    "- If the individual is 16 - they won't get the life insurance.\n",
    "- If the individual is 56 - they will get the life insurance."
   ]
  },
  {
   "cell_type": "markdown",
   "metadata": {},
   "source": [
    "### 5.2 Logistic Regression - Multiclass"
   ]
  },
  {
   "cell_type": "markdown",
   "metadata": {},
   "source": [
    "This example will look at a dataset containing images of handwritten digits, spanning from 0 - 9.\n",
    "    - Image classification of 8x8 (pixel) images.\n",
    "\n",
    "We will create a logistic regression model to guess what digit is being predicted.\n",
    "\n",
    "*Documentation for this data can be found on: https://scikit-learn.org/stable/modules/generated/sklearn.datasets.load_digits.html*"
   ]
  },
  {
   "cell_type": "code",
   "execution_count": 42,
   "metadata": {},
   "outputs": [],
   "source": [
    "# Importing our data\n",
    "from sklearn.datasets import load_digits # This is a pre-defined dataset from the SciKit library"
   ]
  },
  {
   "cell_type": "markdown",
   "metadata": {},
   "source": [
    "This dataset contains 1797 8x8 images of hand-written digits. "
   ]
  },
  {
   "cell_type": "code",
   "execution_count": 43,
   "metadata": {},
   "outputs": [
    {
     "name": "stdout",
     "output_type": "stream",
     "text": [
      "The 2d array looks like: [ 0.  0.  0. 12. 13.  5.  0.  0.  0.  0.  0. 11. 16.  9.  0.  0.  0.  0.\n",
      "  3. 15. 16.  6.  0.  0.  0.  7. 15. 16. 16.  2.  0.  0.  0.  0.  1. 16.\n",
      " 16.  3.  0.  0.  0.  0.  1. 16. 16.  6.  0.  0.  0.  0.  1. 16. 16.  6.\n",
      "  0.  0.  0.  0.  0. 11. 16. 10.  0.  0.]\n",
      "-----------------------------------------\n",
      "The data's shape is (64,) - since each image is 8x8\n"
     ]
    }
   ],
   "source": [
    "# Storing the SciKit dataset into a callable variable\n",
    "digits = load_digits()\n",
    "\n",
    "# Printing what the data looks like in its raw form and what the shape of the data is.\n",
    "print(f\"The 2d array looks like: {digits.data[1]}\")\n",
    "print(\"-----------------------------------------\")\n",
    "print(f\"The data's shape is {digits.data[1].shape} - since each image is 8x8\")"
   ]
  },
  {
   "cell_type": "code",
   "execution_count": 44,
   "metadata": {},
   "outputs": [
    {
     "data": {
      "text/plain": [
       "<matplotlib.image.AxesImage at 0x2733d8eea60>"
      ]
     },
     "execution_count": 44,
     "metadata": {},
     "output_type": "execute_result"
    },
    {
     "data": {
      "text/plain": [
       "<Figure size 432x288 with 0 Axes>"
      ]
     },
     "metadata": {},
     "output_type": "display_data"
    },
    {
     "data": {
      "image/png": "[encoded data removed]",
      "text/plain": [
       "<Figure size 288x288 with 1 Axes>"
      ]
     },
     "metadata": {
      "needs_background": "light"
     },
     "output_type": "display_data"
    }
   ],
   "source": [
    "# Visualising the data\n",
    "plt.gray() # Setting the colormap of the image to gray\n",
    "\n",
    "plt.matshow(digits.images[1]) # Matshow plots the 2d array as an image"
   ]
  },
  {
   "cell_type": "markdown",
   "metadata": {},
   "source": [
    "The number; '1', is printed"
   ]
  },
  {
   "cell_type": "code",
   "execution_count": 45,
   "metadata": {},
   "outputs": [
    {
     "data": {
      "text/plain": [
       "<Figure size 432x288 with 0 Axes>"
      ]
     },
     "metadata": {},
     "output_type": "display_data"
    },
    {
     "data": {
      "image/png": "[encoded data removed]",
      "text/plain": [
       "<Figure size 288x288 with 1 Axes>"
      ]
     },
     "metadata": {
      "needs_background": "light"
     },
     "output_type": "display_data"
    },
    {
     "data": {
      "image/png": "[encoded data removed]",
      "text/plain": [
       "<Figure size 288x288 with 1 Axes>"
      ]
     },
     "metadata": {
      "needs_background": "light"
     },
     "output_type": "display_data"
    }
   ],
   "source": [
    "# Visualising a range of data\n",
    "plt.gray()\n",
    "\n",
    "# Creating a for loop to select a range of 2\n",
    "for i in range(2):\n",
    "    plt.matshow(digits.images[i])"
   ]
  },
  {
   "cell_type": "markdown",
   "metadata": {},
   "source": [
    "We selected a range of 2 numbers, so we printed the sequence of; '0' and '1'."
   ]
  },
  {
   "cell_type": "code",
   "execution_count": 46,
   "metadata": {},
   "outputs": [
    {
     "name": "stdout",
     "output_type": "stream",
     "text": [
      "[0 1]\n",
      "5\n"
     ]
    }
   ],
   "source": [
    "# .target - synonymous with our response variable - what we want to predict\n",
    "## Random input\n",
    "print(f\"{digits.target[0:2]}\")\n",
    "print(f\"{digits.target[1003]}\")"
   ]
  },
  {
   "cell_type": "code",
   "execution_count": 47,
   "metadata": {},
   "outputs": [],
   "source": [
    "# Splitting data into training and testing sets\n",
    "## .data - is our general dataset\n",
    "## .target - is our desired response variable\n",
    "mu_log_xtrain, mu_log_xtest, mu_log_ytrain, mu_log_ytest = train_test_split(digits.data, digits.target, test_size = 0.2)"
   ]
  },
  {
   "cell_type": "code",
   "execution_count": 48,
   "metadata": {},
   "outputs": [
    {
     "name": "stdout",
     "output_type": "stream",
     "text": [
      "The size of our training set is: 1437 - 80% of our total dataset\n",
      "The size of our testing set is:  360  - 20% of our total dataset\n"
     ]
    }
   ],
   "source": [
    "print(f\"The size of our training set is: {len(mu_log_xtrain)} - 80% of our total dataset\")\n",
    "print(f\"The size of our testing set is:  {len(mu_log_xtest)}  - 20% of our total dataset\")"
   ]
  },
  {
   "cell_type": "code",
   "execution_count": 49,
   "metadata": {},
   "outputs": [],
   "source": [
    "# Storing the model into our variable\n",
    "mu_log_model = LogisticRegression()"
   ]
  },
  {
   "cell_type": "code",
   "execution_count": 50,
   "metadata": {},
   "outputs": [
    {
     "name": "stderr",
     "output_type": "stream",
     "text": [
      "C:\\Anaconda3\\lib\\site-packages\\sklearn\\linear_model\\_logistic.py:763: ConvergenceWarning: lbfgs failed to converge (status=1):\n",
      "STOP: TOTAL NO. of ITERATIONS REACHED LIMIT.\n",
      "\n",
      "Increase the number of iterations (max_iter) or scale the data as shown in:\n",
      "    https://scikit-learn.org/stable/modules/preprocessing.html\n",
      "Please also refer to the documentation for alternative solver options:\n",
      "    https://scikit-learn.org/stable/modules/linear_model.html#logistic-regression\n",
      "  n_iter_i = _check_optimize_result(\n"
     ]
    },
    {
     "data": {
      "text/plain": [
       "LogisticRegression()"
      ]
     },
     "execution_count": 50,
     "metadata": {},
     "output_type": "execute_result"
    }
   ],
   "source": [
    "# Fitting our model\n",
    "mu_log_model.fit(mu_log_xtrain, mu_log_ytrain)"
   ]
  },
  {
   "cell_type": "code",
   "execution_count": 51,
   "metadata": {},
   "outputs": [
    {
     "data": {
      "text/plain": [
       "0.9472222222222222"
      ]
     },
     "execution_count": 51,
     "metadata": {},
     "output_type": "execute_result"
    }
   ],
   "source": [
    "# Getting the score of our model\n",
    "mu_log_model.score(mu_log_xtest, mu_log_ytest)"
   ]
  },
  {
   "cell_type": "code",
   "execution_count": 52,
   "metadata": {},
   "outputs": [
    {
     "data": {
      "text/plain": [
       "<matplotlib.image.AxesImage at 0x2733da29040>"
      ]
     },
     "execution_count": 52,
     "metadata": {},
     "output_type": "execute_result"
    },
    {
     "data": {
      "text/plain": [
       "<Figure size 432x288 with 0 Axes>"
      ]
     },
     "metadata": {},
     "output_type": "display_data"
    },
    {
     "data": {
      "image/png": "[encoded data removed]",
      "text/plain": [
       "<Figure size 288x288 with 1 Axes>"
      ]
     },
     "metadata": {
      "needs_background": "light"
     },
     "output_type": "display_data"
    }
   ],
   "source": [
    "# Testing our model with a random input\n",
    "plt.gray()\n",
    "\n",
    "plt.matshow(digits.images[147])"
   ]
  },
  {
   "cell_type": "code",
   "execution_count": 53,
   "metadata": {},
   "outputs": [
    {
     "data": {
      "text/plain": [
       "7"
      ]
     },
     "execution_count": 53,
     "metadata": {},
     "output_type": "execute_result"
    }
   ],
   "source": [
    "# What is this number?\n",
    "digits.target[147] # It is 7"
   ]
  },
  {
   "cell_type": "code",
   "execution_count": 54,
   "metadata": {},
   "outputs": [
    {
     "data": {
      "text/plain": [
       "array([7])"
      ]
     },
     "execution_count": 54,
     "metadata": {},
     "output_type": "execute_result"
    }
   ],
   "source": [
    "# Using our model to predict the number\n",
    "mu_log_model.predict([digits.data[147]]) # Our model accurately predicted the number 7"
   ]
  },
  {
   "cell_type": "markdown",
   "metadata": {},
   "source": [
    "# ----------------------------------------------------------------------------------------------------------------"
   ]
  },
  {
   "cell_type": "markdown",
   "metadata": {},
   "source": [
    "## 6. Confusion Matrix\n",
    " \n",
    "Visualising our model's success and failiure - seeing where it works and where it doesn't\n",
    "\n",
    "We will use our Multiclass Logistic Regression model for this confusion matrix\n",
    "\n",
    "#### A confusion matrix should be used with every model, to visualise how well the model is working.\n",
    "\n",
    "Syntax:\n",
    "- variable = confusion_matrix(*y_true*, *y_predicted*)\n",
    "\n",
    "__Relevant Documentation__: https://scikit-learn.org/stable/modules/generated/sklearn.metrics.confusion_matrix.html"
   ]
  },
  {
   "cell_type": "code",
   "execution_count": 55,
   "metadata": {},
   "outputs": [],
   "source": [
    "# Library for confusion matrix\n",
    "from sklearn.metrics import confusion_matrix"
   ]
  },
  {
   "cell_type": "code",
   "execution_count": 56,
   "metadata": {},
   "outputs": [
    {
     "data": {
      "text/plain": [
       "array([[30,  0,  0,  0,  0,  0,  0,  0,  0,  0],\n",
       "       [ 0, 37,  0,  1,  0,  0,  0,  0,  1,  0],\n",
       "       [ 0,  1, 27,  0,  0,  0,  0,  0,  0,  0],\n",
       "       [ 0,  0,  0, 36,  0,  0,  0,  0,  0,  0],\n",
       "       [ 0,  0,  0,  0, 29,  0,  0,  0,  1,  0],\n",
       "       [ 0,  1,  0,  0,  0, 26,  0,  1,  0,  0],\n",
       "       [ 0,  0,  0,  0,  0,  0, 36,  0,  0,  0],\n",
       "       [ 0,  0,  0,  0,  1,  0,  0, 47,  1,  0],\n",
       "       [ 0,  2,  0,  0,  0,  2,  0,  1, 37,  0],\n",
       "       [ 0,  2,  0,  1,  0,  0,  0,  0,  3, 36]], dtype=int64)"
      ]
     },
     "execution_count": 56,
     "metadata": {},
     "output_type": "execute_result"
    }
   ],
   "source": [
    "# Creating our Confusion Matrix\n",
    "mu_log_y_predicted = mu_log_model.predict(mu_log_xtest) # This will be our predicted array\n",
    "\n",
    "mu_log_cm = confusion_matrix(mu_log_ytest, mu_log_y_predicted)\n",
    "mu_log_cm"
   ]
  },
  {
   "cell_type": "code",
   "execution_count": 57,
   "metadata": {},
   "outputs": [
    {
     "data": {
      "text/plain": [
       "Text(114.0, 0.5, 'True Values')"
      ]
     },
     "execution_count": 57,
     "metadata": {},
     "output_type": "execute_result"
    },
    {
     "data": {
      "image/png": "[encoded data removed]",
      "text/plain": [
       "<Figure size 1080x720 with 2 Axes>"
      ]
     },
     "metadata": {
      "needs_background": "light"
     },
     "output_type": "display_data"
    }
   ],
   "source": [
    "# Visualising the Confusion Matrix\n",
    "\n",
    "# Setting graph size\n",
    "plt.figure(figsize=(15,10))\n",
    "\n",
    "# Plotting Confusion Matrix\n",
    "sn.heatmap(mu_log_cm, annot=True)\n",
    "\n",
    "# Setting graph labels\n",
    "plt.xlabel(\"Predicted Values\")\n",
    "plt.ylabel(\"True Values\")"
   ]
  },
  {
   "cell_type": "markdown",
   "metadata": {},
   "source": [
    "#### What this graph shows is:\n",
    "- Where the 'True values' and 'Predicted values' match, it shows that our model is working in these regions\n",
    "    - e.g. when the true value is '4', our model also predict '4' - 38 times\n",
    "    \n",
    "    \n",
    "- The heatmap lets us know where it lacks proficiency\n",
    "    - the *brighter* the colour, the more accurate our model is - when the 'True' value was '3', our model predicted '3' - 40 times (*accuracy*)\n",
    "    - the *darker* the color, the less accurate our model is - when the 'True' value was '8', our model predicted '1' - 2 times (*inaccuracy*)"
   ]
  },
  {
   "cell_type": "markdown",
   "metadata": {},
   "source": [
    "# ----------------------------------------------------------------------------------------------------------------"
   ]
  },
  {
   "cell_type": "markdown",
   "metadata": {},
   "source": [
    "## 7. Decision Tree\n",
    "\n",
    "Decision trees models are in an odd spot, they're kind of *hybrid* models. \n",
    "\n",
    "Being both a __classification__ or a __regression__ model, based on its context. \n",
    "\n",
    "#### If your data can't be seperated into two parts, use a Decision Tree models\n",
    "\n",
    "__Relevant Documentation__: https://scikit-learn.org/stable/modules/generated/sklearn.tree.DecisionTreeClassifier.html"
   ]
  },
  {
   "cell_type": "code",
   "execution_count": 58,
   "metadata": {},
   "outputs": [],
   "source": [
    "# Importing Decision Tree\n",
    "from sklearn import tree\n",
    "\n",
    "# Label Encoding - Converting labels to numbers - won't need it for this example\n",
    "## from sklearn.preprocessing import LabelEncoder"
   ]
  },
  {
   "cell_type": "code",
   "execution_count": 59,
   "metadata": {},
   "outputs": [],
   "source": [
    "# Importing data from scikit\n",
    "from sklearn.datasets import load_wine"
   ]
  },
  {
   "cell_type": "code",
   "execution_count": 60,
   "metadata": {},
   "outputs": [
    {
     "name": "stdout",
     "output_type": "stream",
     "text": [
      "Our data looks like [1.32e+01 1.78e+00 2.14e+00 1.12e+01 1.00e+02 2.65e+00 2.76e+00 2.60e-01\n",
      " 1.28e+00 4.38e+00 1.05e+00 3.40e+00 1.05e+03]\n",
      "-----------------------------------------\n",
      "The data's shape is 178 rows and 13 columns.\n",
      "-----------------------------------------\n",
      "Our data's target names are: ['class_0' 'class_1' 'class_2']\n",
      "-----------------------------------------\n",
      "Our data's target names are: ['alcohol', 'malic_acid', 'ash', 'alcalinity_of_ash', 'magnesium', 'total_phenols', 'flavanoids', 'nonflavanoid_phenols', 'proanthocyanins', 'color_intensity', 'hue', 'od280/od315_of_diluted_wines', 'proline']\n"
     ]
    }
   ],
   "source": [
    "# Storing data into a variable\n",
    "wine = load_wine()\n",
    "\n",
    "# Printing data details\n",
    "print(f\"Our data looks like {wine.data[1]}\")\n",
    "print(\"-----------------------------------------\")\n",
    "print(f\"The data's shape is {wine.data.shape[0]} rows and {wine.data.shape[1]} columns.\")\n",
    "print(\"-----------------------------------------\")\n",
    "print(f\"Our data's target names are: {wine.target_names}\")\n",
    "print(\"-----------------------------------------\")\n",
    "print(f\"Our data's target names are: {wine.feature_names}\")"
   ]
  },
  {
   "cell_type": "code",
   "execution_count": 61,
   "metadata": {},
   "outputs": [],
   "source": [
    "# Split our data into testing and training sets\n",
    "## .data = our general data\n",
    "## .target = our desired response value\n",
    "wine_xtrain, wine_xtest, wine_ytrain, wine_ytest = train_test_split(wine.data, wine.target, test_size = 0.2)"
   ]
  },
  {
   "cell_type": "code",
   "execution_count": 62,
   "metadata": {},
   "outputs": [],
   "source": [
    "# Calling our decision tree model\n",
    "wine_tree = tree.DecisionTreeClassifier()"
   ]
  },
  {
   "cell_type": "code",
   "execution_count": 63,
   "metadata": {
    "scrolled": true
   },
   "outputs": [
    {
     "data": {
      "text/plain": [
       "DecisionTreeClassifier()"
      ]
     },
     "execution_count": 63,
     "metadata": {},
     "output_type": "execute_result"
    }
   ],
   "source": [
    "# Fitting our model\n",
    "wine_tree.fit(wine_xtrain, wine_ytrain)"
   ]
  },
  {
   "cell_type": "code",
   "execution_count": 64,
   "metadata": {},
   "outputs": [
    {
     "data": {
      "text/plain": [
       "0.9722222222222222"
      ]
     },
     "execution_count": 64,
     "metadata": {},
     "output_type": "execute_result"
    }
   ],
   "source": [
    "# Check our model score\n",
    "wine_tree.score(wine_xtest, wine_ytest)"
   ]
  },
  {
   "cell_type": "code",
   "execution_count": 65,
   "metadata": {},
   "outputs": [
    {
     "data": {
      "text/plain": [
       "0"
      ]
     },
     "execution_count": 65,
     "metadata": {},
     "output_type": "execute_result"
    }
   ],
   "source": [
    "# Let's test our model\n",
    "## What class of wine is wine #47?\n",
    "wine.target[47] ## The true class of this wine is: Class 0 "
   ]
  },
  {
   "cell_type": "code",
   "execution_count": 66,
   "metadata": {},
   "outputs": [
    {
     "data": {
      "text/plain": [
       "array([0])"
      ]
     },
     "execution_count": 66,
     "metadata": {},
     "output_type": "execute_result"
    }
   ],
   "source": [
    "# Let's see what our model predicts\n",
    "wine_tree.predict([wine.data[47]]) ## Our model predicted: Class 0"
   ]
  },
  {
   "cell_type": "markdown",
   "metadata": {},
   "source": [
    "## 8. Random Forest\n",
    "\n",
    "As Random forest models build upon decision trees, this model type is both a __classification__ and __regression__ model.\n",
    "- Random forest models are a level above decision tree models.\n",
    "    - They are essentially multiple decision trees in a single model - hence the Random **forest**\n",
    "\n",
    "This example will look at a dataset containing images of handwritten digits, spanning from 0 - 9.\n",
    "- 8x8 pixel images\n",
    "\n",
    "We looked at this data in the logistic regression example.\n",
    "\n",
    "__Relevant Documentation__: https://scikit-learn.org/stable/modules/generated/sklearn.ensemble.RandomForestClassifier.html"
   ]
  },
  {
   "cell_type": "code",
   "execution_count": 67,
   "metadata": {},
   "outputs": [
    {
     "name": "stdout",
     "output_type": "stream",
     "text": [
      "['DESCR', 'data', 'feature_names', 'frame', 'images', 'target', 'target_names']\n",
      "[ 0.  0.  5. 13.  9.  1.  0.  0.  0.  0. 13. 15. 10. 15.  5.  0.  0.  3.\n",
      " 15.  2.  0. 11.  8.  0.  0.  4. 12.  0.  0.  8.  8.  0.  0.  5.  8.  0.\n",
      "  0.  9.  8.  0.  0.  4. 11.  0.  1. 12.  7.  0.  0.  2. 14.  5. 10. 12.\n",
      "  0.  0.  0.  0.  6. 13. 10.  0.  0.  0.]\n"
     ]
    }
   ],
   "source": [
    "# Storing out digits data into a variabe\n",
    "digits_rf = load_digits()\n",
    "\n",
    "# Properties of this data\n",
    "print(dir(digits_rf)) \n",
    "print(digits.data[0]) # What does the data look like?"
   ]
  },
  {
   "cell_type": "code",
   "execution_count": 68,
   "metadata": {},
   "outputs": [
    {
     "data": {
      "text/html": [
       "<div>\n",
       "<style scoped>\n",
       "    .dataframe tbody tr th:only-of-type {\n",
       "        vertical-align: middle;\n",
       "    }\n",
       "\n",
       "    .dataframe tbody tr th {\n",
       "        vertical-align: top;\n",
       "    }\n",
       "\n",
       "    .dataframe thead th {\n",
       "        text-align: right;\n",
       "    }\n",
       "</style>\n",
       "<table border=\"1\" class=\"dataframe\">\n",
       "  <thead>\n",
       "    <tr style=\"text-align: right;\">\n",
       "      <th></th>\n",
       "      <th>0</th>\n",
       "      <th>1</th>\n",
       "      <th>2</th>\n",
       "      <th>3</th>\n",
       "      <th>4</th>\n",
       "      <th>5</th>\n",
       "      <th>6</th>\n",
       "      <th>7</th>\n",
       "      <th>8</th>\n",
       "      <th>9</th>\n",
       "      <th>...</th>\n",
       "      <th>54</th>\n",
       "      <th>55</th>\n",
       "      <th>56</th>\n",
       "      <th>57</th>\n",
       "      <th>58</th>\n",
       "      <th>59</th>\n",
       "      <th>60</th>\n",
       "      <th>61</th>\n",
       "      <th>62</th>\n",
       "      <th>63</th>\n",
       "    </tr>\n",
       "  </thead>\n",
       "  <tbody>\n",
       "    <tr>\n",
       "      <th>0</th>\n",
       "      <td>0.0</td>\n",
       "      <td>0.0</td>\n",
       "      <td>5.0</td>\n",
       "      <td>13.0</td>\n",
       "      <td>9.0</td>\n",
       "      <td>1.0</td>\n",
       "      <td>0.0</td>\n",
       "      <td>0.0</td>\n",
       "      <td>0.0</td>\n",
       "      <td>0.0</td>\n",
       "      <td>...</td>\n",
       "      <td>0.0</td>\n",
       "      <td>0.0</td>\n",
       "      <td>0.0</td>\n",
       "      <td>0.0</td>\n",
       "      <td>6.0</td>\n",
       "      <td>13.0</td>\n",
       "      <td>10.0</td>\n",
       "      <td>0.0</td>\n",
       "      <td>0.0</td>\n",
       "      <td>0.0</td>\n",
       "    </tr>\n",
       "    <tr>\n",
       "      <th>1</th>\n",
       "      <td>0.0</td>\n",
       "      <td>0.0</td>\n",
       "      <td>0.0</td>\n",
       "      <td>12.0</td>\n",
       "      <td>13.0</td>\n",
       "      <td>5.0</td>\n",
       "      <td>0.0</td>\n",
       "      <td>0.0</td>\n",
       "      <td>0.0</td>\n",
       "      <td>0.0</td>\n",
       "      <td>...</td>\n",
       "      <td>0.0</td>\n",
       "      <td>0.0</td>\n",
       "      <td>0.0</td>\n",
       "      <td>0.0</td>\n",
       "      <td>0.0</td>\n",
       "      <td>11.0</td>\n",
       "      <td>16.0</td>\n",
       "      <td>10.0</td>\n",
       "      <td>0.0</td>\n",
       "      <td>0.0</td>\n",
       "    </tr>\n",
       "    <tr>\n",
       "      <th>2</th>\n",
       "      <td>0.0</td>\n",
       "      <td>0.0</td>\n",
       "      <td>0.0</td>\n",
       "      <td>4.0</td>\n",
       "      <td>15.0</td>\n",
       "      <td>12.0</td>\n",
       "      <td>0.0</td>\n",
       "      <td>0.0</td>\n",
       "      <td>0.0</td>\n",
       "      <td>0.0</td>\n",
       "      <td>...</td>\n",
       "      <td>5.0</td>\n",
       "      <td>0.0</td>\n",
       "      <td>0.0</td>\n",
       "      <td>0.0</td>\n",
       "      <td>0.0</td>\n",
       "      <td>3.0</td>\n",
       "      <td>11.0</td>\n",
       "      <td>16.0</td>\n",
       "      <td>9.0</td>\n",
       "      <td>0.0</td>\n",
       "    </tr>\n",
       "  </tbody>\n",
       "</table>\n",
       "<p>3 rows × 64 columns</p>\n",
       "</div>"
      ],
      "text/plain": [
       "    0    1    2     3     4     5    6    7    8    9   ...   54   55   56  \\\n",
       "0  0.0  0.0  5.0  13.0   9.0   1.0  0.0  0.0  0.0  0.0  ...  0.0  0.0  0.0   \n",
       "1  0.0  0.0  0.0  12.0  13.0   5.0  0.0  0.0  0.0  0.0  ...  0.0  0.0  0.0   \n",
       "2  0.0  0.0  0.0   4.0  15.0  12.0  0.0  0.0  0.0  0.0  ...  5.0  0.0  0.0   \n",
       "\n",
       "    57   58    59    60    61   62   63  \n",
       "0  0.0  6.0  13.0  10.0   0.0  0.0  0.0  \n",
       "1  0.0  0.0  11.0  16.0  10.0  0.0  0.0  \n",
       "2  0.0  0.0   3.0  11.0  16.0  9.0  0.0  \n",
       "\n",
       "[3 rows x 64 columns]"
      ]
     },
     "execution_count": 68,
     "metadata": {},
     "output_type": "execute_result"
    }
   ],
   "source": [
    "# Converting this array into a dataframe\n",
    "df_digits_rf = pd.DataFrame(digits_rf.data) \n",
    "df_digits_rf.head(3)"
   ]
  },
  {
   "cell_type": "code",
   "execution_count": 69,
   "metadata": {},
   "outputs": [],
   "source": [
    "# Splitting out data\n",
    "rf_xtrain, rf_xtest, rf_ytrain, rf_ytest = train_test_split(df_digits_rf, digits.target, test_size=0.2)\n",
    "# df_digits_rf is our input and we want to target the number each cell represents"
   ]
  },
  {
   "cell_type": "code",
   "execution_count": 70,
   "metadata": {},
   "outputs": [
    {
     "data": {
      "text/plain": [
       "RandomForestClassifier(n_estimators=40)"
      ]
     },
     "execution_count": 70,
     "metadata": {},
     "output_type": "execute_result"
    }
   ],
   "source": [
    "# Importing the random forest model\n",
    "from sklearn.ensemble import RandomForestClassifier # Ensemble - using multiple algorithms - RF uses multiple decision trees \n",
    "rf = RandomForestClassifier(n_estimators=40)\n",
    "\n",
    "# Fitting our model\n",
    "rf.fit(rf_xtrain, rf_ytrain)"
   ]
  },
  {
   "cell_type": "markdown",
   "metadata": {},
   "source": [
    "**n_estimators** = how many _trees_ the random forest model is using.\n",
    "- In this example we're using 40 different trees - gives us the best score in this case"
   ]
  },
  {
   "cell_type": "code",
   "execution_count": 71,
   "metadata": {},
   "outputs": [
    {
     "data": {
      "text/plain": [
       "0.975"
      ]
     },
     "execution_count": 71,
     "metadata": {},
     "output_type": "execute_result"
    }
   ],
   "source": [
    "# Let's see the model score\n",
    "rf.score(rf_xtest, rf_ytest)"
   ]
  },
  {
   "cell_type": "code",
   "execution_count": 72,
   "metadata": {},
   "outputs": [
    {
     "data": {
      "text/plain": [
       "4"
      ]
     },
     "execution_count": 72,
     "metadata": {},
     "output_type": "execute_result"
    }
   ],
   "source": [
    "# True value\n",
    "digits.target[100]"
   ]
  },
  {
   "cell_type": "code",
   "execution_count": 73,
   "metadata": {},
   "outputs": [
    {
     "data": {
      "text/plain": [
       "array([4])"
      ]
     },
     "execution_count": 73,
     "metadata": {},
     "output_type": "execute_result"
    }
   ],
   "source": [
    "# Predicted value\n",
    "## Using .values[x] - we're able to extract all of the data and predict it as an array\n",
    "rf.predict([df_digits_rf.values[100]])"
   ]
  },
  {
   "cell_type": "markdown",
   "metadata": {},
   "source": [
    "**Here, you should now add a confusion matrix to visualise the model's accuracy**"
   ]
  },
  {
   "cell_type": "markdown",
   "metadata": {},
   "source": [
    "## 9. Support Vector Machine\n",
    "\n",
    "SVM is a **classification** model.\n",
    "\n",
    "SVM models draw a hyperplane (the term for splitting data/classification boundary on an nDimension). With the goal of:\n",
    "- Maximising margin between classification groups. Having the data points/support vectors have the most amount of space between the boundary.\n",
    "    - Margin is the length between the data points and the classification boundary. The higher the boundary = the better the data split.\n",
    "    \n",
    "__Gamma__:\n",
    "\n",
    "Parameter the model takes to fit the boundary.\n",
    "- High gamma: the model *only* looks at the data points closest to the boundary.\n",
    "    - Lower margin, very accurate, lower generalization\n",
    "- Low gamma: the model looks at data points both close and far to the boundary.\n",
    "    - Higher margin, less accurate, higher generalization.\n",
    "\n",
    "__Regularization__:\n",
    "\n",
    "Paramater the model takes to fit the boundary. \n",
    "- High regularization: model tries is best to lower errors, can be viewed as over-fitting the model. \n",
    "    - Higher accuracy, lower gerneralization.\n",
    "- Low regularization: model accepts errors and plots a plane that can missclassify.\n",
    "    - Lower accuracy, higher generalization.\n",
    "- In the SVM pakage Regularization is \"*__C__*\"\n",
    "\n",
    "__Relevant Documentation__: https://scikit-learn.org/stable/modules/generated/sklearn.svm.SVC.html"
   ]
  },
  {
   "cell_type": "code",
   "execution_count": null,
   "metadata": {},
   "outputs": [],
   "source": []
  },
  {
   "cell_type": "code",
   "execution_count": null,
   "metadata": {},
   "outputs": [],
   "source": []
  },
  {
   "cell_type": "code",
   "execution_count": null,
   "metadata": {},
   "outputs": [],
   "source": []
  },
  {
   "cell_type": "code",
   "execution_count": null,
   "metadata": {},
   "outputs": [],
   "source": []
  },
  {
   "cell_type": "markdown",
   "metadata": {},
   "source": [
    "### 10. K-Fold Cross Validation\n",
    "\n",
    "__Relevant Documentation__: https://scikit-learn.org/stable/modules/generated/sklearn.model_selection.KFold.html?highlight=k%20fold#sklearn.model_selection.KFold"
   ]
  },
  {
   "cell_type": "code",
   "execution_count": null,
   "metadata": {},
   "outputs": [],
   "source": []
  },
  {
   "cell_type": "code",
   "execution_count": null,
   "metadata": {},
   "outputs": [],
   "source": []
  },
  {
   "cell_type": "markdown",
   "metadata": {},
   "source": [
    "### 11. K-Means Clustering\n",
    "\n",
    "\n",
    "__Relevant Documentation__: https://scikit-learn.org/stable/modules/generated/sklearn.cluster.KMeans.html"
   ]
  },
  {
   "cell_type": "code",
   "execution_count": null,
   "metadata": {},
   "outputs": [],
   "source": []
  }
 ],
 "metadata": {
  "kernelspec": {
   "display_name": "Python 3 (ipykernel)",
   "language": "python",
   "name": "python3"
  },
  "language_info": {
   "codemirror_mode": {
    "name": "ipython",
    "version": 3
   },
   "file_extension": ".py",
   "mimetype": "text/x-python",
   "name": "python",
   "nbconvert_exporter": "python",
   "pygments_lexer": "ipython3",
   "version": "3.9.7"
  }
 },
 "nbformat": 4,
 "nbformat_minor": 2
}
